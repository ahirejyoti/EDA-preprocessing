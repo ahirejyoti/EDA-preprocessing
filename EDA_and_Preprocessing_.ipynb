{
  "nbformat": 4,
  "nbformat_minor": 0,
  "metadata": {
    "kernelspec": {
      "display_name": "Python 3",
      "language": "python",
      "name": "python3"
    },
    "language_info": {
      "codemirror_mode": {
        "name": "ipython",
        "version": 3
      },
      "file_extension": ".py",
      "mimetype": "text/x-python",
      "name": "python",
      "nbconvert_exporter": "python",
      "pygments_lexer": "ipython3",
      "version": "3.7.4"
    },
    "colab": {
      "name": "EDA and Preprocessing .ipynb",
      "provenance": [],
      "include_colab_link": true
    }
  },
  "cells": [
    {
      "cell_type": "markdown",
      "metadata": {
        "id": "view-in-github",
        "colab_type": "text"
      },
      "source": [
        "<a href=\"https://colab.research.google.com/github/ahirejyoti/Ensembling-techniques/blob/master/EDA_and_Preprocessing_.ipynb\" target=\"_parent\"><img src=\"https://colab.research.google.com/assets/colab-badge.svg\" alt=\"Open In Colab\"/></a>"
      ]
    },
    {
      "cell_type": "code",
      "metadata": {
        "id": "oDZR9ay4JOwG",
        "outputId": "88292ecd-b1b9-49d9-c9a3-2add2a98077d"
      },
      "source": [
        "# EDA - Exploratory Data Analysis\n",
        "import numpy as np\n",
        "import pandas as pd\n",
        "import matplotlib.pyplot as plt\n",
        "import seaborn as sns"
      ],
      "execution_count": null,
      "outputs": [
        {
          "output_type": "stream",
          "text": [
            "C:\\Users\\itvedant-le2\\Anaconda3\\lib\\site-packages\\statsmodels\\tools\\_testing.py:19: FutureWarning: pandas.util.testing is deprecated. Use the functions in the public API at pandas.testing instead.\n",
            "  import pandas.util.testing as tm\n"
          ],
          "name": "stderr"
        }
      ]
    },
    {
      "cell_type": "code",
      "metadata": {
        "id": "4KpHATzLJOwM"
      },
      "source": [
        "df = pd.read_csv(\"cars.csv\")"
      ],
      "execution_count": null,
      "outputs": []
    },
    {
      "cell_type": "code",
      "metadata": {
        "id": "ab2mRS6JJOwP",
        "outputId": "ad521e0b-2447-40f3-8257-b29eb7e46849"
      },
      "source": [
        "df.info()"
      ],
      "execution_count": null,
      "outputs": [
        {
          "output_type": "stream",
          "text": [
            "<class 'pandas.core.frame.DataFrame'>\n",
            "RangeIndex: 205 entries, 0 to 204\n",
            "Data columns (total 15 columns):\n",
            " #   Column             Non-Null Count  Dtype  \n",
            "---  ------             --------------  -----  \n",
            " 0   symboling          205 non-null    int64  \n",
            " 1   normalized-losses  205 non-null    object \n",
            " 2   make               205 non-null    object \n",
            " 3   fuel-type          205 non-null    object \n",
            " 4   body-style         205 non-null    object \n",
            " 5   drive-wheels       205 non-null    object \n",
            " 6   engine-location    205 non-null    object \n",
            " 7   width              205 non-null    float64\n",
            " 8   height             205 non-null    float64\n",
            " 9   engine-type        205 non-null    object \n",
            " 10  engine-size        205 non-null    int64  \n",
            " 11  horsepower         205 non-null    object \n",
            " 12  city-mpg           205 non-null    int64  \n",
            " 13  highway-mpg        205 non-null    int64  \n",
            " 14  price              205 non-null    int64  \n",
            "dtypes: float64(2), int64(5), object(8)\n",
            "memory usage: 24.1+ KB\n"
          ],
          "name": "stdout"
        }
      ]
    },
    {
      "cell_type": "code",
      "metadata": {
        "id": "YEfrCRVJJOwS",
        "outputId": "14171eb6-6303-4679-cfb3-2e1150607733"
      },
      "source": [
        "df['symboling'].unique()"
      ],
      "execution_count": null,
      "outputs": [
        {
          "output_type": "execute_result",
          "data": {
            "text/plain": [
              "array([ 3,  1,  2,  0, -1, -2], dtype=int64)"
            ]
          },
          "metadata": {
            "tags": []
          },
          "execution_count": 4
        }
      ]
    },
    {
      "cell_type": "code",
      "metadata": {
        "id": "zEIAdHCLJOwW",
        "outputId": "38b8c6cc-4ed9-4c7c-8f19-3f808156dcfe"
      },
      "source": [
        "df['normalized-losses'].unique()"
      ],
      "execution_count": null,
      "outputs": [
        {
          "output_type": "execute_result",
          "data": {
            "text/plain": [
              "array(['?', '164', '158', '192', '188', '121', '98', '81', '118', '148',\n",
              "       '110', '145', '137', '101', '78', '106', '85', '107', '104', '113',\n",
              "       '150', '129', '115', '93', '142', '161', '153', '125', '128',\n",
              "       '122', '103', '168', '108', '194', '231', '119', '154', '74',\n",
              "       '186', '83', '102', '89', '87', '77', '91', '134', '65', '197',\n",
              "       '90', '94', '256', '95'], dtype=object)"
            ]
          },
          "metadata": {
            "tags": []
          },
          "execution_count": 5
        }
      ]
    },
    {
      "cell_type": "code",
      "metadata": {
        "id": "fOF55ZalJOwZ",
        "outputId": "dfde8f5c-9ef6-4f9f-f52f-34bd04849c1c"
      },
      "source": [
        "df['make'].unique()"
      ],
      "execution_count": null,
      "outputs": [
        {
          "output_type": "execute_result",
          "data": {
            "text/plain": [
              "array(['alfa-romero', 'audi', 'bmw', 'chevrolet', 'dodge', 'honda',\n",
              "       'isuzu', 'jaguar', 'mazda', 'mercedes-benz', 'mercury',\n",
              "       'mitsubishi', 'nissan', 'peugot', 'plymouth', 'porsche', 'renault',\n",
              "       'saab', 'subaru', 'toyota', 'volkswagen', 'volvo'], dtype=object)"
            ]
          },
          "metadata": {
            "tags": []
          },
          "execution_count": 6
        }
      ]
    },
    {
      "cell_type": "code",
      "metadata": {
        "id": "KOh1tfbXJOwb",
        "outputId": "fe2b99b0-3c43-4972-a71b-349532172111"
      },
      "source": [
        "#Pre-processing:\n",
        "# 1. Handling null values - nan\n",
        "# 2. Handling junk values\n",
        "# 3. Handling outliers\n",
        "# 4. Handling Skewness\n",
        "# 5. Handle Categorical Data \n",
        "# - converting the character or categories into numbers\n",
        "# 6. Scaling of data\n",
        "# Modelling\n",
        "# 7. Feature engineering\n",
        "# Modeling\n",
        "# 8. Feature selection\n",
        "# modeling\n",
        "df.isnull().sum()"
      ],
      "execution_count": null,
      "outputs": [
        {
          "output_type": "execute_result",
          "data": {
            "text/plain": [
              "symboling            0\n",
              "normalized-losses    0\n",
              "make                 0\n",
              "fuel-type            0\n",
              "body-style           0\n",
              "drive-wheels         0\n",
              "engine-location      0\n",
              "width                0\n",
              "height               0\n",
              "engine-type          0\n",
              "engine-size          0\n",
              "horsepower           0\n",
              "city-mpg             0\n",
              "highway-mpg          0\n",
              "price                0\n",
              "dtype: int64"
            ]
          },
          "metadata": {
            "tags": []
          },
          "execution_count": 7
        }
      ]
    },
    {
      "cell_type": "code",
      "metadata": {
        "id": "CwQ0ti4yJOwf",
        "outputId": "05b39636-a61b-42a3-fbec-3f18b332d207"
      },
      "source": [
        "df.isna().sum()"
      ],
      "execution_count": null,
      "outputs": [
        {
          "output_type": "execute_result",
          "data": {
            "text/plain": [
              "symboling            0\n",
              "normalized-losses    0\n",
              "make                 0\n",
              "fuel-type            0\n",
              "body-style           0\n",
              "drive-wheels         0\n",
              "engine-location      0\n",
              "width                0\n",
              "height               0\n",
              "engine-type          0\n",
              "engine-size          0\n",
              "horsepower           0\n",
              "city-mpg             0\n",
              "highway-mpg          0\n",
              "price                0\n",
              "dtype: int64"
            ]
          },
          "metadata": {
            "tags": []
          },
          "execution_count": 8
        }
      ]
    },
    {
      "cell_type": "code",
      "metadata": {
        "id": "xVgmY1m-JOwj"
      },
      "source": [
        "# How do u handle null or nan values? \n",
        "# How would u manage missing data?\n",
        "# 1. Quantitative - Numbers \n",
        "# - Replace the nan values mean of the column\n",
        "# 2. Qualitative - Category\n",
        "# - Replace the nan values with modal value of the column\n",
        "# highest frequency value\n",
        "# 3. If more that 50% of the column contains nan values \n",
        "# then we shall drop the column"
      ],
      "execution_count": null,
      "outputs": []
    },
    {
      "cell_type": "code",
      "metadata": {
        "id": "jVYggq00JOwl",
        "outputId": "eb42504f-5593-400d-9c32-f35945e7394a"
      },
      "source": [
        "#Handle junk values\n",
        "df['normalized-losses'].unique()"
      ],
      "execution_count": null,
      "outputs": [
        {
          "output_type": "execute_result",
          "data": {
            "text/plain": [
              "array(['?', '164', '158', '192', '188', '121', '98', '81', '118', '148',\n",
              "       '110', '145', '137', '101', '78', '106', '85', '107', '104', '113',\n",
              "       '150', '129', '115', '93', '142', '161', '153', '125', '128',\n",
              "       '122', '103', '168', '108', '194', '231', '119', '154', '74',\n",
              "       '186', '83', '102', '89', '87', '77', '91', '134', '65', '197',\n",
              "       '90', '94', '256', '95'], dtype=object)"
            ]
          },
          "metadata": {
            "tags": []
          },
          "execution_count": 10
        }
      ]
    },
    {
      "cell_type": "code",
      "metadata": {
        "id": "erp7FV-CJOwo",
        "outputId": "05520326-a666-4a24-b8cc-ac19c4e92232"
      },
      "source": [
        "df['horsepower'].unique()"
      ],
      "execution_count": null,
      "outputs": [
        {
          "output_type": "execute_result",
          "data": {
            "text/plain": [
              "array(['111', '154', '102', '115', '110', '140', '160', '101', '121',\n",
              "       '182', '48', '70', '68', '88', '145', '58', '76', '60', '86',\n",
              "       '100', '78', '90', '176', '262', '135', '84', '64', '120', '72',\n",
              "       '123', '155', '184', '175', '116', '69', '55', '97', '152', '200',\n",
              "       '95', '142', '143', '207', '288', '?', '73', '82', '94', '62',\n",
              "       '56', '112', '92', '161', '156', '52', '85', '114', '162', '134',\n",
              "       '106'], dtype=object)"
            ]
          },
          "metadata": {
            "tags": []
          },
          "execution_count": 11
        }
      ]
    },
    {
      "cell_type": "code",
      "metadata": {
        "id": "VBHs7UFLJOwr"
      },
      "source": [
        "# How do you handle data with junk characters in it?\n",
        "# 1. Replace the junk character with nan\n",
        "# 2. if the data in the column contains numbers \n",
        "# Convert the column into numeric/quantitative column\n",
        "# 3. Replace the nan values with mean or mode\n",
        "df['normalized-losses'].replace('?', np.nan, inplace=True)"
      ],
      "execution_count": null,
      "outputs": []
    },
    {
      "cell_type": "code",
      "metadata": {
        "id": "wAnEcvLXJOwt",
        "outputId": "cb873e45-43e7-4be9-d8fa-83fcc0fc468a"
      },
      "source": [
        "df['normalized-losses'].unique()"
      ],
      "execution_count": null,
      "outputs": [
        {
          "output_type": "execute_result",
          "data": {
            "text/plain": [
              "array([nan, '164', '158', '192', '188', '121', '98', '81', '118', '148',\n",
              "       '110', '145', '137', '101', '78', '106', '85', '107', '104', '113',\n",
              "       '150', '129', '115', '93', '142', '161', '153', '125', '128',\n",
              "       '122', '103', '168', '108', '194', '231', '119', '154', '74',\n",
              "       '186', '83', '102', '89', '87', '77', '91', '134', '65', '197',\n",
              "       '90', '94', '256', '95'], dtype=object)"
            ]
          },
          "metadata": {
            "tags": []
          },
          "execution_count": 13
        }
      ]
    },
    {
      "cell_type": "code",
      "metadata": {
        "id": "337DQcMiJOww"
      },
      "source": [
        "df['normalized-losses'] = df['normalized-losses'].astype(float)"
      ],
      "execution_count": null,
      "outputs": []
    },
    {
      "cell_type": "code",
      "metadata": {
        "id": "dOxuWLBqJOw0",
        "outputId": "171fdafa-d25e-4ee8-afc6-324ae03a9dec"
      },
      "source": [
        "df.info()"
      ],
      "execution_count": null,
      "outputs": [
        {
          "output_type": "stream",
          "text": [
            "<class 'pandas.core.frame.DataFrame'>\n",
            "RangeIndex: 205 entries, 0 to 204\n",
            "Data columns (total 15 columns):\n",
            " #   Column             Non-Null Count  Dtype  \n",
            "---  ------             --------------  -----  \n",
            " 0   symboling          205 non-null    int64  \n",
            " 1   normalized-losses  164 non-null    float64\n",
            " 2   make               205 non-null    object \n",
            " 3   fuel-type          205 non-null    object \n",
            " 4   body-style         205 non-null    object \n",
            " 5   drive-wheels       205 non-null    object \n",
            " 6   engine-location    205 non-null    object \n",
            " 7   width              205 non-null    float64\n",
            " 8   height             205 non-null    float64\n",
            " 9   engine-type        205 non-null    object \n",
            " 10  engine-size        205 non-null    int64  \n",
            " 11  horsepower         205 non-null    object \n",
            " 12  city-mpg           205 non-null    int64  \n",
            " 13  highway-mpg        205 non-null    int64  \n",
            " 14  price              205 non-null    int64  \n",
            "dtypes: float64(3), int64(5), object(7)\n",
            "memory usage: 24.1+ KB\n"
          ],
          "name": "stdout"
        }
      ]
    },
    {
      "cell_type": "code",
      "metadata": {
        "id": "E6u5seyJJOw3"
      },
      "source": [
        "df['normalized-losses'].fillna(df['normalized-losses'].mean(),\n",
        "                               inplace=True)"
      ],
      "execution_count": null,
      "outputs": []
    },
    {
      "cell_type": "code",
      "metadata": {
        "id": "MZ4jkGlXJOw5"
      },
      "source": [
        "df['horsepower'].replace('?', np.nan, inplace=True)\n",
        "df['horsepower'] = df['horsepower'].astype(float)\n",
        "df['horsepower'].fillna(df['horsepower'].mean(),\n",
        "                        inplace=True)"
      ],
      "execution_count": null,
      "outputs": []
    },
    {
      "cell_type": "code",
      "metadata": {
        "id": "cjd1t8hnJOw7",
        "outputId": "523ba6a6-60a8-4e6d-8f80-b2b0572347ef"
      },
      "source": [
        "df['normalized-losses'].unique()"
      ],
      "execution_count": null,
      "outputs": [
        {
          "output_type": "execute_result",
          "data": {
            "text/plain": [
              "array([122., 164., 158., 192., 188., 121.,  98.,  81., 118., 148., 110.,\n",
              "       145., 137., 101.,  78., 106.,  85., 107., 104., 113., 150., 129.,\n",
              "       115.,  93., 142., 161., 153., 125., 128., 103., 168., 108., 194.,\n",
              "       231., 119., 154.,  74., 186.,  83., 102.,  89.,  87.,  77.,  91.,\n",
              "       134.,  65., 197.,  90.,  94., 256.,  95.])"
            ]
          },
          "metadata": {
            "tags": []
          },
          "execution_count": 18
        }
      ]
    },
    {
      "cell_type": "code",
      "metadata": {
        "id": "NfWwy-oCJOxC",
        "outputId": "7d20e19d-c7b2-4f93-e5d6-ba9e3012f33a"
      },
      "source": [
        "df['horsepower'].unique()"
      ],
      "execution_count": null,
      "outputs": [
        {
          "output_type": "execute_result",
          "data": {
            "text/plain": [
              "array([111.        , 154.        , 102.        , 115.        ,\n",
              "       110.        , 140.        , 160.        , 101.        ,\n",
              "       121.        , 182.        ,  48.        ,  70.        ,\n",
              "        68.        ,  88.        , 145.        ,  58.        ,\n",
              "        76.        ,  60.        ,  86.        , 100.        ,\n",
              "        78.        ,  90.        , 176.        , 262.        ,\n",
              "       135.        ,  84.        ,  64.        , 120.        ,\n",
              "        72.        , 123.        , 155.        , 184.        ,\n",
              "       175.        , 116.        ,  69.        ,  55.        ,\n",
              "        97.        , 152.        , 200.        ,  95.        ,\n",
              "       142.        , 143.        , 207.        , 288.        ,\n",
              "       104.25615764,  73.        ,  82.        ,  94.        ,\n",
              "        62.        ,  56.        , 112.        ,  92.        ,\n",
              "       161.        , 156.        ,  52.        ,  85.        ,\n",
              "       114.        , 162.        , 134.        , 106.        ])"
            ]
          },
          "metadata": {
            "tags": []
          },
          "execution_count": 19
        }
      ]
    },
    {
      "cell_type": "code",
      "metadata": {
        "id": "-uQLxadfJOxG",
        "outputId": "d9447eaa-d388-4e31-922f-419b1656e936"
      },
      "source": [
        "# Removing Outliers - always based on Target\n",
        "sns.boxplot(data=df, x=\"price\")\n",
        "plt.show()"
      ],
      "execution_count": null,
      "outputs": [
        {
          "output_type": "display_data",
          "data": {
            "image/png": "[encoded data removed]",
            "text/plain": [
              "<Figure size 432x288 with 1 Axes>"
            ]
          },
          "metadata": {
            "tags": [],
            "needs_background": "light"
          }
        }
      ]
    },
    {
      "cell_type": "code",
      "metadata": {
        "id": "b2yhaoCuJOxI",
        "outputId": "9023d77b-e423-4588-e97a-9222bf1f7fef"
      },
      "source": [
        "plt.figure(figsize=(7,8))\n",
        "sns.boxplot(data=df, x=\"price\", y=\"make\")\n",
        "plt.show()"
      ],
      "execution_count": null,
      "outputs": [
        {
          "output_type": "display_data",
          "data": {
            "image/png": "[encoded data removed]",
            "text/plain": [
              "<Figure size 504x576 with 1 Axes>"
            ]
          },
          "metadata": {
            "tags": [],
            "needs_background": "light"
          }
        }
      ]
    },
    {
      "cell_type": "code",
      "metadata": {
        "id": "R_afZFlNJOxM",
        "outputId": "0bb0a3f9-4c74-4402-9c31-cee48e4ec7c8"
      },
      "source": [
        "df[(df['make']=='dodge') & (df['price']>10000)]"
      ],
      "execution_count": null,
      "outputs": [
        {
          "output_type": "execute_result",
          "data": {
            "text/html": [
              "<div>\n",
              "<style scoped>\n",
              "    .dataframe tbody tr th:only-of-type {\n",
              "        vertical-align: middle;\n",
              "    }\n",
              "\n",
              "    .dataframe tbody tr th {\n",
              "        vertical-align: top;\n",
              "    }\n",
              "\n",
              "    .dataframe thead th {\n",
              "        text-align: right;\n",
              "    }\n",
              "</style>\n",
              "<table border=\"1\" class=\"dataframe\">\n",
              "  <thead>\n",
              "    <tr style=\"text-align: right;\">\n",
              "      <th></th>\n",
              "      <th>symboling</th>\n",
              "      <th>normalized-losses</th>\n",
              "      <th>make</th>\n",
              "      <th>fuel-type</th>\n",
              "      <th>body-style</th>\n",
              "      <th>drive-wheels</th>\n",
              "      <th>engine-location</th>\n",
              "      <th>width</th>\n",
              "      <th>height</th>\n",
              "      <th>engine-type</th>\n",
              "      <th>engine-size</th>\n",
              "      <th>horsepower</th>\n",
              "      <th>city-mpg</th>\n",
              "      <th>highway-mpg</th>\n",
              "      <th>price</th>\n",
              "    </tr>\n",
              "  </thead>\n",
              "  <tbody>\n",
              "    <tr>\n",
              "      <th>29</th>\n",
              "      <td>3</td>\n",
              "      <td>145.0</td>\n",
              "      <td>dodge</td>\n",
              "      <td>gas</td>\n",
              "      <td>hatchback</td>\n",
              "      <td>fwd</td>\n",
              "      <td>front</td>\n",
              "      <td>66.3</td>\n",
              "      <td>50.2</td>\n",
              "      <td>ohc</td>\n",
              "      <td>156</td>\n",
              "      <td>145.0</td>\n",
              "      <td>19</td>\n",
              "      <td>24</td>\n",
              "      <td>12964</td>\n",
              "    </tr>\n",
              "  </tbody>\n",
              "</table>\n",
              "</div>"
            ],
            "text/plain": [
              "    symboling  normalized-losses   make fuel-type body-style drive-wheels  \\\n",
              "29          3              145.0  dodge       gas  hatchback          fwd   \n",
              "\n",
              "   engine-location  width  height engine-type  engine-size  horsepower  \\\n",
              "29           front   66.3    50.2         ohc          156       145.0   \n",
              "\n",
              "    city-mpg  highway-mpg  price  \n",
              "29        19           24  12964  "
            ]
          },
          "metadata": {
            "tags": []
          },
          "execution_count": 22
        }
      ]
    },
    {
      "cell_type": "code",
      "metadata": {
        "id": "o2Kb3qYyJOxO"
      },
      "source": [
        "df.drop(29, inplace=True)"
      ],
      "execution_count": null,
      "outputs": []
    },
    {
      "cell_type": "code",
      "metadata": {
        "id": "Dml9UELgJOxR",
        "outputId": "72a42a93-7d5f-4d9f-ad83-7db7bde87fb3"
      },
      "source": [
        "df[(df['make']=='honda') & (df['price']>12000)]"
      ],
      "execution_count": null,
      "outputs": [
        {
          "output_type": "execute_result",
          "data": {
            "text/html": [
              "<div>\n",
              "<style scoped>\n",
              "    .dataframe tbody tr th:only-of-type {\n",
              "        vertical-align: middle;\n",
              "    }\n",
              "\n",
              "    .dataframe tbody tr th {\n",
              "        vertical-align: top;\n",
              "    }\n",
              "\n",
              "    .dataframe thead th {\n",
              "        text-align: right;\n",
              "    }\n",
              "</style>\n",
              "<table border=\"1\" class=\"dataframe\">\n",
              "  <thead>\n",
              "    <tr style=\"text-align: right;\">\n",
              "      <th></th>\n",
              "      <th>symboling</th>\n",
              "      <th>normalized-losses</th>\n",
              "      <th>make</th>\n",
              "      <th>fuel-type</th>\n",
              "      <th>body-style</th>\n",
              "      <th>drive-wheels</th>\n",
              "      <th>engine-location</th>\n",
              "      <th>width</th>\n",
              "      <th>height</th>\n",
              "      <th>engine-type</th>\n",
              "      <th>engine-size</th>\n",
              "      <th>horsepower</th>\n",
              "      <th>city-mpg</th>\n",
              "      <th>highway-mpg</th>\n",
              "      <th>price</th>\n",
              "    </tr>\n",
              "  </thead>\n",
              "  <tbody>\n",
              "    <tr>\n",
              "      <th>41</th>\n",
              "      <td>0</td>\n",
              "      <td>85.0</td>\n",
              "      <td>honda</td>\n",
              "      <td>gas</td>\n",
              "      <td>sedan</td>\n",
              "      <td>fwd</td>\n",
              "      <td>front</td>\n",
              "      <td>65.2</td>\n",
              "      <td>54.1</td>\n",
              "      <td>ohc</td>\n",
              "      <td>110</td>\n",
              "      <td>101.0</td>\n",
              "      <td>24</td>\n",
              "      <td>28</td>\n",
              "      <td>12945</td>\n",
              "    </tr>\n",
              "  </tbody>\n",
              "</table>\n",
              "</div>"
            ],
            "text/plain": [
              "    symboling  normalized-losses   make fuel-type body-style drive-wheels  \\\n",
              "41          0               85.0  honda       gas      sedan          fwd   \n",
              "\n",
              "   engine-location  width  height engine-type  engine-size  horsepower  \\\n",
              "41           front   65.2    54.1         ohc          110       101.0   \n",
              "\n",
              "    city-mpg  highway-mpg  price  \n",
              "41        24           28  12945  "
            ]
          },
          "metadata": {
            "tags": []
          },
          "execution_count": 24
        }
      ]
    },
    {
      "cell_type": "code",
      "metadata": {
        "id": "e9TDffYyJOxU"
      },
      "source": [
        "df.drop(41, inplace=True)"
      ],
      "execution_count": null,
      "outputs": []
    },
    {
      "cell_type": "code",
      "metadata": {
        "id": "LxyujARKJOxX"
      },
      "source": [
        "#Reducing skewness\n",
        "# only for numeric\n",
        "df_cat = df.select_dtypes(object)\n",
        "df_num = df.select_dtypes([\"int64\", \"float64\"])"
      ],
      "execution_count": null,
      "outputs": []
    },
    {
      "cell_type": "code",
      "metadata": {
        "id": "EO0f-1w8JOxa",
        "outputId": "856d30da-9a22-4edb-ba83-9ddf1dd0cdbb"
      },
      "source": [
        "df_cat.head()"
      ],
      "execution_count": null,
      "outputs": [
        {
          "output_type": "execute_result",
          "data": {
            "text/html": [
              "<div>\n",
              "<style scoped>\n",
              "    .dataframe tbody tr th:only-of-type {\n",
              "        vertical-align: middle;\n",
              "    }\n",
              "\n",
              "    .dataframe tbody tr th {\n",
              "        vertical-align: top;\n",
              "    }\n",
              "\n",
              "    .dataframe thead th {\n",
              "        text-align: right;\n",
              "    }\n",
              "</style>\n",
              "<table border=\"1\" class=\"dataframe\">\n",
              "  <thead>\n",
              "    <tr style=\"text-align: right;\">\n",
              "      <th></th>\n",
              "      <th>make</th>\n",
              "      <th>fuel-type</th>\n",
              "      <th>body-style</th>\n",
              "      <th>drive-wheels</th>\n",
              "      <th>engine-location</th>\n",
              "      <th>engine-type</th>\n",
              "    </tr>\n",
              "  </thead>\n",
              "  <tbody>\n",
              "    <tr>\n",
              "      <th>0</th>\n",
              "      <td>alfa-romero</td>\n",
              "      <td>gas</td>\n",
              "      <td>convertible</td>\n",
              "      <td>rwd</td>\n",
              "      <td>front</td>\n",
              "      <td>dohc</td>\n",
              "    </tr>\n",
              "    <tr>\n",
              "      <th>1</th>\n",
              "      <td>alfa-romero</td>\n",
              "      <td>gas</td>\n",
              "      <td>convertible</td>\n",
              "      <td>rwd</td>\n",
              "      <td>front</td>\n",
              "      <td>dohc</td>\n",
              "    </tr>\n",
              "    <tr>\n",
              "      <th>2</th>\n",
              "      <td>alfa-romero</td>\n",
              "      <td>gas</td>\n",
              "      <td>hatchback</td>\n",
              "      <td>rwd</td>\n",
              "      <td>front</td>\n",
              "      <td>ohcv</td>\n",
              "    </tr>\n",
              "    <tr>\n",
              "      <th>3</th>\n",
              "      <td>audi</td>\n",
              "      <td>gas</td>\n",
              "      <td>sedan</td>\n",
              "      <td>fwd</td>\n",
              "      <td>front</td>\n",
              "      <td>ohc</td>\n",
              "    </tr>\n",
              "    <tr>\n",
              "      <th>4</th>\n",
              "      <td>audi</td>\n",
              "      <td>gas</td>\n",
              "      <td>sedan</td>\n",
              "      <td>4wd</td>\n",
              "      <td>front</td>\n",
              "      <td>ohc</td>\n",
              "    </tr>\n",
              "  </tbody>\n",
              "</table>\n",
              "</div>"
            ],
            "text/plain": [
              "          make fuel-type   body-style drive-wheels engine-location engine-type\n",
              "0  alfa-romero       gas  convertible          rwd           front        dohc\n",
              "1  alfa-romero       gas  convertible          rwd           front        dohc\n",
              "2  alfa-romero       gas    hatchback          rwd           front        ohcv\n",
              "3         audi       gas        sedan          fwd           front         ohc\n",
              "4         audi       gas        sedan          4wd           front         ohc"
            ]
          },
          "metadata": {
            "tags": []
          },
          "execution_count": 27
        }
      ]
    },
    {
      "cell_type": "code",
      "metadata": {
        "id": "gtU7bgczJOxg",
        "outputId": "d1513011-fa7d-4426-c419-07bbfac54ef7"
      },
      "source": [
        "df_num.head()"
      ],
      "execution_count": null,
      "outputs": [
        {
          "output_type": "execute_result",
          "data": {
            "text/html": [
              "<div>\n",
              "<style scoped>\n",
              "    .dataframe tbody tr th:only-of-type {\n",
              "        vertical-align: middle;\n",
              "    }\n",
              "\n",
              "    .dataframe tbody tr th {\n",
              "        vertical-align: top;\n",
              "    }\n",
              "\n",
              "    .dataframe thead th {\n",
              "        text-align: right;\n",
              "    }\n",
              "</style>\n",
              "<table border=\"1\" class=\"dataframe\">\n",
              "  <thead>\n",
              "    <tr style=\"text-align: right;\">\n",
              "      <th></th>\n",
              "      <th>symboling</th>\n",
              "      <th>normalized-losses</th>\n",
              "      <th>width</th>\n",
              "      <th>height</th>\n",
              "      <th>engine-size</th>\n",
              "      <th>horsepower</th>\n",
              "      <th>city-mpg</th>\n",
              "      <th>highway-mpg</th>\n",
              "      <th>price</th>\n",
              "    </tr>\n",
              "  </thead>\n",
              "  <tbody>\n",
              "    <tr>\n",
              "      <th>0</th>\n",
              "      <td>3</td>\n",
              "      <td>122.0</td>\n",
              "      <td>64.1</td>\n",
              "      <td>48.8</td>\n",
              "      <td>130</td>\n",
              "      <td>111.0</td>\n",
              "      <td>21</td>\n",
              "      <td>27</td>\n",
              "      <td>13495</td>\n",
              "    </tr>\n",
              "    <tr>\n",
              "      <th>1</th>\n",
              "      <td>3</td>\n",
              "      <td>122.0</td>\n",
              "      <td>64.1</td>\n",
              "      <td>48.8</td>\n",
              "      <td>130</td>\n",
              "      <td>111.0</td>\n",
              "      <td>21</td>\n",
              "      <td>27</td>\n",
              "      <td>16500</td>\n",
              "    </tr>\n",
              "    <tr>\n",
              "      <th>2</th>\n",
              "      <td>1</td>\n",
              "      <td>122.0</td>\n",
              "      <td>65.5</td>\n",
              "      <td>52.4</td>\n",
              "      <td>152</td>\n",
              "      <td>154.0</td>\n",
              "      <td>19</td>\n",
              "      <td>26</td>\n",
              "      <td>16500</td>\n",
              "    </tr>\n",
              "    <tr>\n",
              "      <th>3</th>\n",
              "      <td>2</td>\n",
              "      <td>164.0</td>\n",
              "      <td>66.2</td>\n",
              "      <td>54.3</td>\n",
              "      <td>109</td>\n",
              "      <td>102.0</td>\n",
              "      <td>24</td>\n",
              "      <td>30</td>\n",
              "      <td>13950</td>\n",
              "    </tr>\n",
              "    <tr>\n",
              "      <th>4</th>\n",
              "      <td>2</td>\n",
              "      <td>164.0</td>\n",
              "      <td>66.4</td>\n",
              "      <td>54.3</td>\n",
              "      <td>136</td>\n",
              "      <td>115.0</td>\n",
              "      <td>18</td>\n",
              "      <td>22</td>\n",
              "      <td>17450</td>\n",
              "    </tr>\n",
              "  </tbody>\n",
              "</table>\n",
              "</div>"
            ],
            "text/plain": [
              "   symboling  normalized-losses  width  height  engine-size  horsepower  \\\n",
              "0          3              122.0   64.1    48.8          130       111.0   \n",
              "1          3              122.0   64.1    48.8          130       111.0   \n",
              "2          1              122.0   65.5    52.4          152       154.0   \n",
              "3          2              164.0   66.2    54.3          109       102.0   \n",
              "4          2              164.0   66.4    54.3          136       115.0   \n",
              "\n",
              "   city-mpg  highway-mpg  price  \n",
              "0        21           27  13495  \n",
              "1        21           27  16500  \n",
              "2        19           26  16500  \n",
              "3        24           30  13950  \n",
              "4        18           22  17450  "
            ]
          },
          "metadata": {
            "tags": []
          },
          "execution_count": 28
        }
      ]
    },
    {
      "cell_type": "code",
      "metadata": {
        "id": "4qfi4v2iJOxi",
        "outputId": "bedb02dd-7212-4c96-b3d9-5c7f220a7bb1"
      },
      "source": [
        "df.shape"
      ],
      "execution_count": null,
      "outputs": [
        {
          "output_type": "execute_result",
          "data": {
            "text/plain": [
              "(203, 15)"
            ]
          },
          "metadata": {
            "tags": []
          },
          "execution_count": 29
        }
      ]
    },
    {
      "cell_type": "code",
      "metadata": {
        "id": "_3Ul3-h8JOxk"
      },
      "source": [
        "from scipy.stats import skew"
      ],
      "execution_count": null,
      "outputs": []
    },
    {
      "cell_type": "code",
      "metadata": {
        "id": "sZ5n5giRJOxm",
        "outputId": "cada02fd-165b-4e67-f3cc-45dc77db554d"
      },
      "source": [
        "for col in df_num:\n",
        "    print(col,\":\", skew(df_num[col]))\n",
        "    sns.distplot(df_num[col])\n",
        "    plt.show()\n",
        "    print(\"-------------------------------------------------------------\")"
      ],
      "execution_count": null,
      "outputs": [
        {
          "output_type": "stream",
          "text": [
            "symboling : 0.20496147298318457\n"
          ],
          "name": "stdout"
        },
        {
          "output_type": "display_data",
          "data": {
            "image/png": "[encoded data removed]",
            "text/plain": [
              "<Figure size 432x288 with 1 Axes>"
            ]
          },
          "metadata": {
            "tags": [],
            "needs_background": "light"
          }
        },
        {
          "output_type": "stream",
          "text": [
            "-------------------------------------------------------------\n",
            "normalized-losses : 0.8557267740270386\n"
          ],
          "name": "stdout"
        },
        {
          "output_type": "display_data",
          "data": {
            "image/png": "[encoded data removed]",
            "text/plain": [
              "<Figure size 432x288 with 1 Axes>"
            ]
          },
          "metadata": {
            "tags": [],
            "needs_background": "light"
          }
        },
        {
          "output_type": "stream",
          "text": [
            "-------------------------------------------------------------\n",
            "width : 0.8918992406374219\n"
          ],
          "name": "stdout"
        },
        {
          "output_type": "display_data",
          "data": {
            "image/png": "[encoded data removed]",
            "text/plain": [
              "<Figure size 432x288 with 1 Axes>"
            ]
          },
          "metadata": {
            "tags": [],
            "needs_background": "light"
          }
        },
        {
          "output_type": "stream",
          "text": [
            "-------------------------------------------------------------\n",
            "height : 0.059124240225782575\n"
          ],
          "name": "stdout"
        },
        {
          "output_type": "display_data",
          "data": {
            "image/png": "[encoded data removed]",
            "text/plain": [
              "<Figure size 432x288 with 1 Axes>"
            ]
          },
          "metadata": {
            "tags": [],
            "needs_background": "light"
          }
        },
        {
          "output_type": "stream",
          "text": [
            "-------------------------------------------------------------\n",
            "engine-size : 1.9361744127497647\n"
          ],
          "name": "stdout"
        },
        {
          "output_type": "display_data",
          "data": {
            "image/png": "[encoded data removed]",
            "text/plain": [
              "<Figure size 432x288 with 1 Axes>"
            ]
          },
          "metadata": {
            "tags": [],
            "needs_background": "light"
          }
        },
        {
          "output_type": "stream",
          "text": [
            "-------------------------------------------------------------\n",
            "horsepower : 1.4003300023699334\n"
          ],
          "name": "stdout"
        },
        {
          "output_type": "display_data",
          "data": {
            "image/png": "[encoded data removed]",
            "text/plain": [
              "<Figure size 432x288 with 1 Axes>"
            ]
          },
          "metadata": {
            "tags": [],
            "needs_background": "light"
          }
        },
        {
          "output_type": "stream",
          "text": [
            "-------------------------------------------------------------\n",
            "city-mpg : 0.6476583271259431\n"
          ],
          "name": "stdout"
        },
        {
          "output_type": "display_data",
          "data": {
            "image/png": "[encoded data removed]",
            "text/plain": [
              "<Figure size 432x288 with 1 Axes>"
            ]
          },
          "metadata": {
            "tags": [],
            "needs_background": "light"
          }
        },
        {
          "output_type": "stream",
          "text": [
            "-------------------------------------------------------------\n",
            "highway-mpg : 0.522441419363147\n"
          ],
          "name": "stdout"
        },
        {
          "output_type": "display_data",
          "data": {
            "image/png": "[encoded data removed]",
            "text/plain": [
              "<Figure size 432x288 with 1 Axes>"
            ]
          },
          "metadata": {
            "tags": [],
            "needs_background": "light"
          }
        },
        {
          "output_type": "stream",
          "text": [
            "-------------------------------------------------------------\n",
            "price : 1.7821884705042463\n"
          ],
          "name": "stdout"
        },
        {
          "output_type": "display_data",
          "data": {
            "image/png": "[encoded data removed]",
            "text/plain": [
              "<Figure size 432x288 with 1 Axes>"
            ]
          },
          "metadata": {
            "tags": [],
            "needs_background": "light"
          }
        },
        {
          "output_type": "stream",
          "text": [
            "-------------------------------------------------------------\n"
          ],
          "name": "stdout"
        }
      ]
    },
    {
      "cell_type": "code",
      "metadata": {
        "id": "y1KAQDpIJOxs"
      },
      "source": [
        "# How do you reduce skewness?\n",
        "# 1. Check the skew value\n",
        "#normalized-losses, width, engine-size, horsepower\n",
        "# 2. Check for corelation with target \n",
        "# - if corelation of the skew column is high with target\n",
        "# then don't reduce skewness\n",
        "#normalized-losses\n",
        "# 3. Does the column identified by step 2 contain negative values?\n",
        "# if yes - don't reduce skewness\n",
        "# if no - reduce skewness"
      ],
      "execution_count": null,
      "outputs": []
    },
    {
      "cell_type": "code",
      "metadata": {
        "id": "961P8oiFJOxu",
        "outputId": "860c9b0d-74d3-480d-9c46-d0bc0a135f77"
      },
      "source": [
        "sns.heatmap(df_num.corr(), annot=True)\n",
        "plt.show()"
      ],
      "execution_count": null,
      "outputs": [
        {
          "output_type": "display_data",
          "data": {
            "image/png": "[encoded data removed]",
            "text/plain": [
              "<Figure size 432x288 with 2 Axes>"
            ]
          },
          "metadata": {
            "tags": [],
            "needs_background": "light"
          }
        }
      ]
    },
    {
      "cell_type": "code",
      "metadata": {
        "id": "V5Qbx_I_JOxw",
        "outputId": "beac1ecb-c279-4c9b-8b02-47966e97f16f"
      },
      "source": [
        "#checking for negative values\n",
        "df_num['normalized-losses'].min()"
      ],
      "execution_count": null,
      "outputs": [
        {
          "output_type": "execute_result",
          "data": {
            "text/plain": [
              "65.0"
            ]
          },
          "metadata": {
            "tags": []
          },
          "execution_count": 34
        }
      ]
    },
    {
      "cell_type": "code",
      "metadata": {
        "id": "S7hXz2MEJOxy",
        "outputId": "a9d32f83-bfbf-47b5-b3f6-2f52135158a2"
      },
      "source": [
        "df_num['normalized-losses'] = np.sqrt(df_num['normalized-losses'])"
      ],
      "execution_count": null,
      "outputs": [
        {
          "output_type": "stream",
          "text": [
            "C:\\Users\\itvedant-le2\\Anaconda3\\lib\\site-packages\\ipykernel_launcher.py:1: SettingWithCopyWarning: \n",
            "A value is trying to be set on a copy of a slice from a DataFrame.\n",
            "Try using .loc[row_indexer,col_indexer] = value instead\n",
            "\n",
            "See the caveats in the documentation: https://pandas.pydata.org/pandas-docs/stable/user_guide/indexing.html#returning-a-view-versus-a-copy\n",
            "  \"\"\"Entry point for launching an IPython kernel.\n"
          ],
          "name": "stderr"
        }
      ]
    },
    {
      "cell_type": "code",
      "metadata": {
        "id": "5N6vRD-kJOx3",
        "outputId": "bf0cc24e-37f0-493c-ca71-01f595112e35"
      },
      "source": [
        "print(skew(df_num['normalized-losses']))\n",
        "sns.distplot(df_num['normalized-losses'])\n",
        "plt.show()"
      ],
      "execution_count": null,
      "outputs": [
        {
          "output_type": "stream",
          "text": [
            "0.4287009139308796\n"
          ],
          "name": "stdout"
        },
        {
          "output_type": "display_data",
          "data": {
            "image/png": "[encoded data removed]",
            "text/plain": [
              "<Figure size 432x288 with 1 Axes>"
            ]
          },
          "metadata": {
            "tags": [],
            "needs_background": "light"
          }
        }
      ]
    },
    {
      "cell_type": "code",
      "metadata": {
        "id": "lrVfC4qNJOx5",
        "outputId": "68489ec6-0f6d-41ce-d17e-84fca6c1daee"
      },
      "source": [
        "# Handling categorical data\n",
        "# 1. One hot encoding\n",
        "# 2. Label Encoding\n",
        "\n",
        "df['make'].unique()"
      ],
      "execution_count": null,
      "outputs": [
        {
          "output_type": "execute_result",
          "data": {
            "text/plain": [
              "array(['alfa-romero', 'audi', 'bmw', 'chevrolet', 'dodge', 'honda',\n",
              "       'isuzu', 'jaguar', 'mazda', 'mercedes-benz', 'mercury',\n",
              "       'mitsubishi', 'nissan', 'peugot', 'plymouth', 'porsche', 'renault',\n",
              "       'saab', 'subaru', 'toyota', 'volkswagen', 'volvo'], dtype=object)"
            ]
          },
          "metadata": {
            "tags": []
          },
          "execution_count": 37
        }
      ]
    },
    {
      "cell_type": "code",
      "metadata": {
        "id": "mRqzyxmmJOx9",
        "outputId": "4225a1d4-3e87-429e-d430-d9deee55c7e8"
      },
      "source": [
        "make_data = pd.get_dummies(df_cat['make'])\n",
        "make_data.head(10)"
      ],
      "execution_count": null,
      "outputs": [
        {
          "output_type": "execute_result",
          "data": {
            "text/html": [
              "<div>\n",
              "<style scoped>\n",
              "    .dataframe tbody tr th:only-of-type {\n",
              "        vertical-align: middle;\n",
              "    }\n",
              "\n",
              "    .dataframe tbody tr th {\n",
              "        vertical-align: top;\n",
              "    }\n",
              "\n",
              "    .dataframe thead th {\n",
              "        text-align: right;\n",
              "    }\n",
              "</style>\n",
              "<table border=\"1\" class=\"dataframe\">\n",
              "  <thead>\n",
              "    <tr style=\"text-align: right;\">\n",
              "      <th></th>\n",
              "      <th>alfa-romero</th>\n",
              "      <th>audi</th>\n",
              "      <th>bmw</th>\n",
              "      <th>chevrolet</th>\n",
              "      <th>dodge</th>\n",
              "      <th>honda</th>\n",
              "      <th>isuzu</th>\n",
              "      <th>jaguar</th>\n",
              "      <th>mazda</th>\n",
              "      <th>mercedes-benz</th>\n",
              "      <th>...</th>\n",
              "      <th>nissan</th>\n",
              "      <th>peugot</th>\n",
              "      <th>plymouth</th>\n",
              "      <th>porsche</th>\n",
              "      <th>renault</th>\n",
              "      <th>saab</th>\n",
              "      <th>subaru</th>\n",
              "      <th>toyota</th>\n",
              "      <th>volkswagen</th>\n",
              "      <th>volvo</th>\n",
              "    </tr>\n",
              "  </thead>\n",
              "  <tbody>\n",
              "    <tr>\n",
              "      <th>0</th>\n",
              "      <td>1</td>\n",
              "      <td>0</td>\n",
              "      <td>0</td>\n",
              "      <td>0</td>\n",
              "      <td>0</td>\n",
              "      <td>0</td>\n",
              "      <td>0</td>\n",
              "      <td>0</td>\n",
              "      <td>0</td>\n",
              "      <td>0</td>\n",
              "      <td>...</td>\n",
              "      <td>0</td>\n",
              "      <td>0</td>\n",
              "      <td>0</td>\n",
              "      <td>0</td>\n",
              "      <td>0</td>\n",
              "      <td>0</td>\n",
              "      <td>0</td>\n",
              "      <td>0</td>\n",
              "      <td>0</td>\n",
              "      <td>0</td>\n",
              "    </tr>\n",
              "    <tr>\n",
              "      <th>1</th>\n",
              "      <td>1</td>\n",
              "      <td>0</td>\n",
              "      <td>0</td>\n",
              "      <td>0</td>\n",
              "      <td>0</td>\n",
              "      <td>0</td>\n",
              "      <td>0</td>\n",
              "      <td>0</td>\n",
              "      <td>0</td>\n",
              "      <td>0</td>\n",
              "      <td>...</td>\n",
              "      <td>0</td>\n",
              "      <td>0</td>\n",
              "      <td>0</td>\n",
              "      <td>0</td>\n",
              "      <td>0</td>\n",
              "      <td>0</td>\n",
              "      <td>0</td>\n",
              "      <td>0</td>\n",
              "      <td>0</td>\n",
              "      <td>0</td>\n",
              "    </tr>\n",
              "    <tr>\n",
              "      <th>2</th>\n",
              "      <td>1</td>\n",
              "      <td>0</td>\n",
              "      <td>0</td>\n",
              "      <td>0</td>\n",
              "      <td>0</td>\n",
              "      <td>0</td>\n",
              "      <td>0</td>\n",
              "      <td>0</td>\n",
              "      <td>0</td>\n",
              "      <td>0</td>\n",
              "      <td>...</td>\n",
              "      <td>0</td>\n",
              "      <td>0</td>\n",
              "      <td>0</td>\n",
              "      <td>0</td>\n",
              "      <td>0</td>\n",
              "      <td>0</td>\n",
              "      <td>0</td>\n",
              "      <td>0</td>\n",
              "      <td>0</td>\n",
              "      <td>0</td>\n",
              "    </tr>\n",
              "    <tr>\n",
              "      <th>3</th>\n",
              "      <td>0</td>\n",
              "      <td>1</td>\n",
              "      <td>0</td>\n",
              "      <td>0</td>\n",
              "      <td>0</td>\n",
              "      <td>0</td>\n",
              "      <td>0</td>\n",
              "      <td>0</td>\n",
              "      <td>0</td>\n",
              "      <td>0</td>\n",
              "      <td>...</td>\n",
              "      <td>0</td>\n",
              "      <td>0</td>\n",
              "      <td>0</td>\n",
              "      <td>0</td>\n",
              "      <td>0</td>\n",
              "      <td>0</td>\n",
              "      <td>0</td>\n",
              "      <td>0</td>\n",
              "      <td>0</td>\n",
              "      <td>0</td>\n",
              "    </tr>\n",
              "    <tr>\n",
              "      <th>4</th>\n",
              "      <td>0</td>\n",
              "      <td>1</td>\n",
              "      <td>0</td>\n",
              "      <td>0</td>\n",
              "      <td>0</td>\n",
              "      <td>0</td>\n",
              "      <td>0</td>\n",
              "      <td>0</td>\n",
              "      <td>0</td>\n",
              "      <td>0</td>\n",
              "      <td>...</td>\n",
              "      <td>0</td>\n",
              "      <td>0</td>\n",
              "      <td>0</td>\n",
              "      <td>0</td>\n",
              "      <td>0</td>\n",
              "      <td>0</td>\n",
              "      <td>0</td>\n",
              "      <td>0</td>\n",
              "      <td>0</td>\n",
              "      <td>0</td>\n",
              "    </tr>\n",
              "    <tr>\n",
              "      <th>5</th>\n",
              "      <td>0</td>\n",
              "      <td>1</td>\n",
              "      <td>0</td>\n",
              "      <td>0</td>\n",
              "      <td>0</td>\n",
              "      <td>0</td>\n",
              "      <td>0</td>\n",
              "      <td>0</td>\n",
              "      <td>0</td>\n",
              "      <td>0</td>\n",
              "      <td>...</td>\n",
              "      <td>0</td>\n",
              "      <td>0</td>\n",
              "      <td>0</td>\n",
              "      <td>0</td>\n",
              "      <td>0</td>\n",
              "      <td>0</td>\n",
              "      <td>0</td>\n",
              "      <td>0</td>\n",
              "      <td>0</td>\n",
              "      <td>0</td>\n",
              "    </tr>\n",
              "    <tr>\n",
              "      <th>6</th>\n",
              "      <td>0</td>\n",
              "      <td>1</td>\n",
              "      <td>0</td>\n",
              "      <td>0</td>\n",
              "      <td>0</td>\n",
              "      <td>0</td>\n",
              "      <td>0</td>\n",
              "      <td>0</td>\n",
              "      <td>0</td>\n",
              "      <td>0</td>\n",
              "      <td>...</td>\n",
              "      <td>0</td>\n",
              "      <td>0</td>\n",
              "      <td>0</td>\n",
              "      <td>0</td>\n",
              "      <td>0</td>\n",
              "      <td>0</td>\n",
              "      <td>0</td>\n",
              "      <td>0</td>\n",
              "      <td>0</td>\n",
              "      <td>0</td>\n",
              "    </tr>\n",
              "    <tr>\n",
              "      <th>7</th>\n",
              "      <td>0</td>\n",
              "      <td>1</td>\n",
              "      <td>0</td>\n",
              "      <td>0</td>\n",
              "      <td>0</td>\n",
              "      <td>0</td>\n",
              "      <td>0</td>\n",
              "      <td>0</td>\n",
              "      <td>0</td>\n",
              "      <td>0</td>\n",
              "      <td>...</td>\n",
              "      <td>0</td>\n",
              "      <td>0</td>\n",
              "      <td>0</td>\n",
              "      <td>0</td>\n",
              "      <td>0</td>\n",
              "      <td>0</td>\n",
              "      <td>0</td>\n",
              "      <td>0</td>\n",
              "      <td>0</td>\n",
              "      <td>0</td>\n",
              "    </tr>\n",
              "    <tr>\n",
              "      <th>8</th>\n",
              "      <td>0</td>\n",
              "      <td>1</td>\n",
              "      <td>0</td>\n",
              "      <td>0</td>\n",
              "      <td>0</td>\n",
              "      <td>0</td>\n",
              "      <td>0</td>\n",
              "      <td>0</td>\n",
              "      <td>0</td>\n",
              "      <td>0</td>\n",
              "      <td>...</td>\n",
              "      <td>0</td>\n",
              "      <td>0</td>\n",
              "      <td>0</td>\n",
              "      <td>0</td>\n",
              "      <td>0</td>\n",
              "      <td>0</td>\n",
              "      <td>0</td>\n",
              "      <td>0</td>\n",
              "      <td>0</td>\n",
              "      <td>0</td>\n",
              "    </tr>\n",
              "    <tr>\n",
              "      <th>9</th>\n",
              "      <td>0</td>\n",
              "      <td>1</td>\n",
              "      <td>0</td>\n",
              "      <td>0</td>\n",
              "      <td>0</td>\n",
              "      <td>0</td>\n",
              "      <td>0</td>\n",
              "      <td>0</td>\n",
              "      <td>0</td>\n",
              "      <td>0</td>\n",
              "      <td>...</td>\n",
              "      <td>0</td>\n",
              "      <td>0</td>\n",
              "      <td>0</td>\n",
              "      <td>0</td>\n",
              "      <td>0</td>\n",
              "      <td>0</td>\n",
              "      <td>0</td>\n",
              "      <td>0</td>\n",
              "      <td>0</td>\n",
              "      <td>0</td>\n",
              "    </tr>\n",
              "  </tbody>\n",
              "</table>\n",
              "<p>10 rows × 22 columns</p>\n",
              "</div>"
            ],
            "text/plain": [
              "   alfa-romero  audi  bmw  chevrolet  dodge  honda  isuzu  jaguar  mazda  \\\n",
              "0            1     0    0          0      0      0      0       0      0   \n",
              "1            1     0    0          0      0      0      0       0      0   \n",
              "2            1     0    0          0      0      0      0       0      0   \n",
              "3            0     1    0          0      0      0      0       0      0   \n",
              "4            0     1    0          0      0      0      0       0      0   \n",
              "5            0     1    0          0      0      0      0       0      0   \n",
              "6            0     1    0          0      0      0      0       0      0   \n",
              "7            0     1    0          0      0      0      0       0      0   \n",
              "8            0     1    0          0      0      0      0       0      0   \n",
              "9            0     1    0          0      0      0      0       0      0   \n",
              "\n",
              "   mercedes-benz  ...  nissan  peugot  plymouth  porsche  renault  saab  \\\n",
              "0              0  ...       0       0         0        0        0     0   \n",
              "1              0  ...       0       0         0        0        0     0   \n",
              "2              0  ...       0       0         0        0        0     0   \n",
              "3              0  ...       0       0         0        0        0     0   \n",
              "4              0  ...       0       0         0        0        0     0   \n",
              "5              0  ...       0       0         0        0        0     0   \n",
              "6              0  ...       0       0         0        0        0     0   \n",
              "7              0  ...       0       0         0        0        0     0   \n",
              "8              0  ...       0       0         0        0        0     0   \n",
              "9              0  ...       0       0         0        0        0     0   \n",
              "\n",
              "   subaru  toyota  volkswagen  volvo  \n",
              "0       0       0           0      0  \n",
              "1       0       0           0      0  \n",
              "2       0       0           0      0  \n",
              "3       0       0           0      0  \n",
              "4       0       0           0      0  \n",
              "5       0       0           0      0  \n",
              "6       0       0           0      0  \n",
              "7       0       0           0      0  \n",
              "8       0       0           0      0  \n",
              "9       0       0           0      0  \n",
              "\n",
              "[10 rows x 22 columns]"
            ]
          },
          "metadata": {
            "tags": []
          },
          "execution_count": 38
        }
      ]
    },
    {
      "cell_type": "code",
      "metadata": {
        "id": "ZN7-Eq9eJOx_"
      },
      "source": [
        "from sklearn.preprocessing import OneHotEncoder"
      ],
      "execution_count": null,
      "outputs": []
    },
    {
      "cell_type": "code",
      "metadata": {
        "id": "5YSu8g2qJOyB",
        "outputId": "47e7e250-b99d-495e-d6e8-2ea75df930e3"
      },
      "source": [
        "ohe = OneHotEncoder()\n",
        "ohe.fit(df_cat[['make']])\n",
        "data = ohe.transform(df_cat[['make']])\n",
        "print(data)"
      ],
      "execution_count": null,
      "outputs": [
        {
          "output_type": "stream",
          "text": [
            "  (0, 0)\t1.0\n",
            "  (1, 0)\t1.0\n",
            "  (2, 0)\t1.0\n",
            "  (3, 1)\t1.0\n",
            "  (4, 1)\t1.0\n",
            "  (5, 1)\t1.0\n",
            "  (6, 1)\t1.0\n",
            "  (7, 1)\t1.0\n",
            "  (8, 1)\t1.0\n",
            "  (9, 1)\t1.0\n",
            "  (10, 2)\t1.0\n",
            "  (11, 2)\t1.0\n",
            "  (12, 2)\t1.0\n",
            "  (13, 2)\t1.0\n",
            "  (14, 2)\t1.0\n",
            "  (15, 2)\t1.0\n",
            "  (16, 2)\t1.0\n",
            "  (17, 2)\t1.0\n",
            "  (18, 3)\t1.0\n",
            "  (19, 3)\t1.0\n",
            "  (20, 3)\t1.0\n",
            "  (21, 4)\t1.0\n",
            "  (22, 4)\t1.0\n",
            "  (23, 4)\t1.0\n",
            "  (24, 4)\t1.0\n",
            "  :\t:\n",
            "  (178, 19)\t1.0\n",
            "  (179, 19)\t1.0\n",
            "  (180, 20)\t1.0\n",
            "  (181, 20)\t1.0\n",
            "  (182, 20)\t1.0\n",
            "  (183, 20)\t1.0\n",
            "  (184, 20)\t1.0\n",
            "  (185, 20)\t1.0\n",
            "  (186, 20)\t1.0\n",
            "  (187, 20)\t1.0\n",
            "  (188, 20)\t1.0\n",
            "  (189, 20)\t1.0\n",
            "  (190, 20)\t1.0\n",
            "  (191, 20)\t1.0\n",
            "  (192, 21)\t1.0\n",
            "  (193, 21)\t1.0\n",
            "  (194, 21)\t1.0\n",
            "  (195, 21)\t1.0\n",
            "  (196, 21)\t1.0\n",
            "  (197, 21)\t1.0\n",
            "  (198, 21)\t1.0\n",
            "  (199, 21)\t1.0\n",
            "  (200, 21)\t1.0\n",
            "  (201, 21)\t1.0\n",
            "  (202, 21)\t1.0\n"
          ],
          "name": "stdout"
        }
      ]
    },
    {
      "cell_type": "code",
      "metadata": {
        "id": "1Yqdq0VNJOyE"
      },
      "source": [
        "from sklearn.preprocessing import LabelEncoder"
      ],
      "execution_count": null,
      "outputs": []
    },
    {
      "cell_type": "code",
      "metadata": {
        "id": "qOWQdZigJOyG"
      },
      "source": [
        "le = LabelEncoder()\n",
        "le.fit(df_cat['make'])\n",
        "data = le.transform(df_cat['make'])"
      ],
      "execution_count": null,
      "outputs": []
    },
    {
      "cell_type": "code",
      "metadata": {
        "id": "poSLHJzZJOyQ",
        "outputId": "df5d01c3-5d8e-49eb-b60e-21ea721e3645"
      },
      "source": [
        "data"
      ],
      "execution_count": null,
      "outputs": [
        {
          "output_type": "execute_result",
          "data": {
            "text/plain": [
              "array([ 0,  0,  0,  1,  1,  1,  1,  1,  1,  1,  2,  2,  2,  2,  2,  2,  2,\n",
              "        2,  3,  3,  3,  4,  4,  4,  4,  4,  4,  4,  4,  5,  5,  5,  5,  5,\n",
              "        5,  5,  5,  5,  5,  5,  5,  6,  6,  6,  6,  7,  7,  7,  8,  8,  8,\n",
              "        8,  8,  8,  8,  8,  8,  8,  8,  8,  8,  8,  8,  8,  8,  9,  9,  9,\n",
              "        9,  9,  9,  9,  9, 10, 11, 11, 11, 11, 11, 11, 11, 11, 11, 11, 11,\n",
              "       11, 11, 12, 12, 12, 12, 12, 12, 12, 12, 12, 12, 12, 12, 12, 12, 12,\n",
              "       12, 12, 12, 13, 13, 13, 13, 13, 13, 13, 13, 13, 13, 13, 14, 14, 14,\n",
              "       14, 14, 14, 14, 15, 15, 15, 15, 15, 16, 16, 17, 17, 17, 17, 17, 17,\n",
              "       18, 18, 18, 18, 18, 18, 18, 18, 18, 18, 18, 18, 19, 19, 19, 19, 19,\n",
              "       19, 19, 19, 19, 19, 19, 19, 19, 19, 19, 19, 19, 19, 19, 19, 19, 19,\n",
              "       19, 19, 19, 19, 19, 19, 19, 19, 19, 19, 20, 20, 20, 20, 20, 20, 20,\n",
              "       20, 20, 20, 20, 20, 21, 21, 21, 21, 21, 21, 21, 21, 21, 21, 21])"
            ]
          },
          "metadata": {
            "tags": []
          },
          "execution_count": 43
        }
      ]
    },
    {
      "cell_type": "code",
      "metadata": {
        "id": "eXnHf-z_JOyS",
        "outputId": "7fdb0f63-a4a7-4f82-e403-7d16e19f0241"
      },
      "source": [
        "le.inverse_transform(data)"
      ],
      "execution_count": null,
      "outputs": [
        {
          "output_type": "execute_result",
          "data": {
            "text/plain": [
              "array(['alfa-romero', 'alfa-romero', 'alfa-romero', 'audi', 'audi',\n",
              "       'audi', 'audi', 'audi', 'audi', 'audi', 'bmw', 'bmw', 'bmw', 'bmw',\n",
              "       'bmw', 'bmw', 'bmw', 'bmw', 'chevrolet', 'chevrolet', 'chevrolet',\n",
              "       'dodge', 'dodge', 'dodge', 'dodge', 'dodge', 'dodge', 'dodge',\n",
              "       'dodge', 'honda', 'honda', 'honda', 'honda', 'honda', 'honda',\n",
              "       'honda', 'honda', 'honda', 'honda', 'honda', 'honda', 'isuzu',\n",
              "       'isuzu', 'isuzu', 'isuzu', 'jaguar', 'jaguar', 'jaguar', 'mazda',\n",
              "       'mazda', 'mazda', 'mazda', 'mazda', 'mazda', 'mazda', 'mazda',\n",
              "       'mazda', 'mazda', 'mazda', 'mazda', 'mazda', 'mazda', 'mazda',\n",
              "       'mazda', 'mazda', 'mercedes-benz', 'mercedes-benz',\n",
              "       'mercedes-benz', 'mercedes-benz', 'mercedes-benz', 'mercedes-benz',\n",
              "       'mercedes-benz', 'mercedes-benz', 'mercury', 'mitsubishi',\n",
              "       'mitsubishi', 'mitsubishi', 'mitsubishi', 'mitsubishi',\n",
              "       'mitsubishi', 'mitsubishi', 'mitsubishi', 'mitsubishi',\n",
              "       'mitsubishi', 'mitsubishi', 'mitsubishi', 'mitsubishi', 'nissan',\n",
              "       'nissan', 'nissan', 'nissan', 'nissan', 'nissan', 'nissan',\n",
              "       'nissan', 'nissan', 'nissan', 'nissan', 'nissan', 'nissan',\n",
              "       'nissan', 'nissan', 'nissan', 'nissan', 'nissan', 'peugot',\n",
              "       'peugot', 'peugot', 'peugot', 'peugot', 'peugot', 'peugot',\n",
              "       'peugot', 'peugot', 'peugot', 'peugot', 'plymouth', 'plymouth',\n",
              "       'plymouth', 'plymouth', 'plymouth', 'plymouth', 'plymouth',\n",
              "       'porsche', 'porsche', 'porsche', 'porsche', 'porsche', 'renault',\n",
              "       'renault', 'saab', 'saab', 'saab', 'saab', 'saab', 'saab',\n",
              "       'subaru', 'subaru', 'subaru', 'subaru', 'subaru', 'subaru',\n",
              "       'subaru', 'subaru', 'subaru', 'subaru', 'subaru', 'subaru',\n",
              "       'toyota', 'toyota', 'toyota', 'toyota', 'toyota', 'toyota',\n",
              "       'toyota', 'toyota', 'toyota', 'toyota', 'toyota', 'toyota',\n",
              "       'toyota', 'toyota', 'toyota', 'toyota', 'toyota', 'toyota',\n",
              "       'toyota', 'toyota', 'toyota', 'toyota', 'toyota', 'toyota',\n",
              "       'toyota', 'toyota', 'toyota', 'toyota', 'toyota', 'toyota',\n",
              "       'toyota', 'toyota', 'volkswagen', 'volkswagen', 'volkswagen',\n",
              "       'volkswagen', 'volkswagen', 'volkswagen', 'volkswagen',\n",
              "       'volkswagen', 'volkswagen', 'volkswagen', 'volkswagen',\n",
              "       'volkswagen', 'volvo', 'volvo', 'volvo', 'volvo', 'volvo', 'volvo',\n",
              "       'volvo', 'volvo', 'volvo', 'volvo', 'volvo'], dtype=object)"
            ]
          },
          "metadata": {
            "tags": []
          },
          "execution_count": 44
        }
      ]
    },
    {
      "cell_type": "code",
      "metadata": {
        "id": "eNk3U2rJJOyX",
        "outputId": "3a310677-c2b3-47a5-c4bf-592408081e13"
      },
      "source": [
        "for col in df_cat:\n",
        "    le = LabelEncoder()\n",
        "    df_cat[col] = le.fit_transform(df_cat[col])\n",
        "df_cat.head()"
      ],
      "execution_count": null,
      "outputs": [
        {
          "output_type": "stream",
          "text": [
            "C:\\Users\\itvedant-le2\\Anaconda3\\lib\\site-packages\\ipykernel_launcher.py:3: SettingWithCopyWarning: \n",
            "A value is trying to be set on a copy of a slice from a DataFrame.\n",
            "Try using .loc[row_indexer,col_indexer] = value instead\n",
            "\n",
            "See the caveats in the documentation: https://pandas.pydata.org/pandas-docs/stable/user_guide/indexing.html#returning-a-view-versus-a-copy\n",
            "  This is separate from the ipykernel package so we can avoid doing imports until\n"
          ],
          "name": "stderr"
        },
        {
          "output_type": "execute_result",
          "data": {
            "text/html": [
              "<div>\n",
              "<style scoped>\n",
              "    .dataframe tbody tr th:only-of-type {\n",
              "        vertical-align: middle;\n",
              "    }\n",
              "\n",
              "    .dataframe tbody tr th {\n",
              "        vertical-align: top;\n",
              "    }\n",
              "\n",
              "    .dataframe thead th {\n",
              "        text-align: right;\n",
              "    }\n",
              "</style>\n",
              "<table border=\"1\" class=\"dataframe\">\n",
              "  <thead>\n",
              "    <tr style=\"text-align: right;\">\n",
              "      <th></th>\n",
              "      <th>make</th>\n",
              "      <th>fuel-type</th>\n",
              "      <th>body-style</th>\n",
              "      <th>drive-wheels</th>\n",
              "      <th>engine-location</th>\n",
              "      <th>engine-type</th>\n",
              "    </tr>\n",
              "  </thead>\n",
              "  <tbody>\n",
              "    <tr>\n",
              "      <th>0</th>\n",
              "      <td>0</td>\n",
              "      <td>1</td>\n",
              "      <td>0</td>\n",
              "      <td>2</td>\n",
              "      <td>0</td>\n",
              "      <td>0</td>\n",
              "    </tr>\n",
              "    <tr>\n",
              "      <th>1</th>\n",
              "      <td>0</td>\n",
              "      <td>1</td>\n",
              "      <td>0</td>\n",
              "      <td>2</td>\n",
              "      <td>0</td>\n",
              "      <td>0</td>\n",
              "    </tr>\n",
              "    <tr>\n",
              "      <th>2</th>\n",
              "      <td>0</td>\n",
              "      <td>1</td>\n",
              "      <td>2</td>\n",
              "      <td>2</td>\n",
              "      <td>0</td>\n",
              "      <td>5</td>\n",
              "    </tr>\n",
              "    <tr>\n",
              "      <th>3</th>\n",
              "      <td>1</td>\n",
              "      <td>1</td>\n",
              "      <td>3</td>\n",
              "      <td>1</td>\n",
              "      <td>0</td>\n",
              "      <td>3</td>\n",
              "    </tr>\n",
              "    <tr>\n",
              "      <th>4</th>\n",
              "      <td>1</td>\n",
              "      <td>1</td>\n",
              "      <td>3</td>\n",
              "      <td>0</td>\n",
              "      <td>0</td>\n",
              "      <td>3</td>\n",
              "    </tr>\n",
              "  </tbody>\n",
              "</table>\n",
              "</div>"
            ],
            "text/plain": [
              "   make  fuel-type  body-style  drive-wheels  engine-location  engine-type\n",
              "0     0          1           0             2                0            0\n",
              "1     0          1           0             2                0            0\n",
              "2     0          1           2             2                0            5\n",
              "3     1          1           3             1                0            3\n",
              "4     1          1           3             0                0            3"
            ]
          },
          "metadata": {
            "tags": []
          },
          "execution_count": 45
        }
      ]
    },
    {
      "cell_type": "code",
      "metadata": {
        "id": "lbIK8m4OJOyZ",
        "outputId": "ca8079b4-fa3a-49c1-d4c3-d59aa02859ce"
      },
      "source": [
        "#Scaling data\n",
        "n1 = 1000 #metres\n",
        "n2 = 20 #kilometers\n",
        "n1 < n2"
      ],
      "execution_count": null,
      "outputs": [
        {
          "output_type": "execute_result",
          "data": {
            "text/plain": [
              "False"
            ]
          },
          "metadata": {
            "tags": []
          },
          "execution_count": 46
        }
      ]
    },
    {
      "cell_type": "code",
      "metadata": {
        "id": "QkeWZo0NJOyf",
        "outputId": "55b9d3de-c193-4edd-a6c4-d24befbbd4d4"
      },
      "source": [
        "# -3 to +3\n",
        "# 1. MinMaxScaler - x_new = (x_old-min) / (max-min) \n",
        "# ANswer 0 to 1\n",
        "# 2. StandardScaler - zscore = x-min/std\n",
        "\n",
        "df_new = pd.concat([df_num, df_cat], axis=1)\n",
        "df_new.head()"
      ],
      "execution_count": null,
      "outputs": [
        {
          "output_type": "execute_result",
          "data": {
            "text/html": [
              "<div>\n",
              "<style scoped>\n",
              "    .dataframe tbody tr th:only-of-type {\n",
              "        vertical-align: middle;\n",
              "    }\n",
              "\n",
              "    .dataframe tbody tr th {\n",
              "        vertical-align: top;\n",
              "    }\n",
              "\n",
              "    .dataframe thead th {\n",
              "        text-align: right;\n",
              "    }\n",
              "</style>\n",
              "<table border=\"1\" class=\"dataframe\">\n",
              "  <thead>\n",
              "    <tr style=\"text-align: right;\">\n",
              "      <th></th>\n",
              "      <th>symboling</th>\n",
              "      <th>normalized-losses</th>\n",
              "      <th>width</th>\n",
              "      <th>height</th>\n",
              "      <th>engine-size</th>\n",
              "      <th>horsepower</th>\n",
              "      <th>city-mpg</th>\n",
              "      <th>highway-mpg</th>\n",
              "      <th>price</th>\n",
              "      <th>make</th>\n",
              "      <th>fuel-type</th>\n",
              "      <th>body-style</th>\n",
              "      <th>drive-wheels</th>\n",
              "      <th>engine-location</th>\n",
              "      <th>engine-type</th>\n",
              "    </tr>\n",
              "  </thead>\n",
              "  <tbody>\n",
              "    <tr>\n",
              "      <th>0</th>\n",
              "      <td>3</td>\n",
              "      <td>11.045361</td>\n",
              "      <td>64.1</td>\n",
              "      <td>48.8</td>\n",
              "      <td>130</td>\n",
              "      <td>111.0</td>\n",
              "      <td>21</td>\n",
              "      <td>27</td>\n",
              "      <td>13495</td>\n",
              "      <td>0</td>\n",
              "      <td>1</td>\n",
              "      <td>0</td>\n",
              "      <td>2</td>\n",
              "      <td>0</td>\n",
              "      <td>0</td>\n",
              "    </tr>\n",
              "    <tr>\n",
              "      <th>1</th>\n",
              "      <td>3</td>\n",
              "      <td>11.045361</td>\n",
              "      <td>64.1</td>\n",
              "      <td>48.8</td>\n",
              "      <td>130</td>\n",
              "      <td>111.0</td>\n",
              "      <td>21</td>\n",
              "      <td>27</td>\n",
              "      <td>16500</td>\n",
              "      <td>0</td>\n",
              "      <td>1</td>\n",
              "      <td>0</td>\n",
              "      <td>2</td>\n",
              "      <td>0</td>\n",
              "      <td>0</td>\n",
              "    </tr>\n",
              "    <tr>\n",
              "      <th>2</th>\n",
              "      <td>1</td>\n",
              "      <td>11.045361</td>\n",
              "      <td>65.5</td>\n",
              "      <td>52.4</td>\n",
              "      <td>152</td>\n",
              "      <td>154.0</td>\n",
              "      <td>19</td>\n",
              "      <td>26</td>\n",
              "      <td>16500</td>\n",
              "      <td>0</td>\n",
              "      <td>1</td>\n",
              "      <td>2</td>\n",
              "      <td>2</td>\n",
              "      <td>0</td>\n",
              "      <td>5</td>\n",
              "    </tr>\n",
              "    <tr>\n",
              "      <th>3</th>\n",
              "      <td>2</td>\n",
              "      <td>12.806248</td>\n",
              "      <td>66.2</td>\n",
              "      <td>54.3</td>\n",
              "      <td>109</td>\n",
              "      <td>102.0</td>\n",
              "      <td>24</td>\n",
              "      <td>30</td>\n",
              "      <td>13950</td>\n",
              "      <td>1</td>\n",
              "      <td>1</td>\n",
              "      <td>3</td>\n",
              "      <td>1</td>\n",
              "      <td>0</td>\n",
              "      <td>3</td>\n",
              "    </tr>\n",
              "    <tr>\n",
              "      <th>4</th>\n",
              "      <td>2</td>\n",
              "      <td>12.806248</td>\n",
              "      <td>66.4</td>\n",
              "      <td>54.3</td>\n",
              "      <td>136</td>\n",
              "      <td>115.0</td>\n",
              "      <td>18</td>\n",
              "      <td>22</td>\n",
              "      <td>17450</td>\n",
              "      <td>1</td>\n",
              "      <td>1</td>\n",
              "      <td>3</td>\n",
              "      <td>0</td>\n",
              "      <td>0</td>\n",
              "      <td>3</td>\n",
              "    </tr>\n",
              "  </tbody>\n",
              "</table>\n",
              "</div>"
            ],
            "text/plain": [
              "   symboling  normalized-losses  width  height  engine-size  horsepower  \\\n",
              "0          3          11.045361   64.1    48.8          130       111.0   \n",
              "1          3          11.045361   64.1    48.8          130       111.0   \n",
              "2          1          11.045361   65.5    52.4          152       154.0   \n",
              "3          2          12.806248   66.2    54.3          109       102.0   \n",
              "4          2          12.806248   66.4    54.3          136       115.0   \n",
              "\n",
              "   city-mpg  highway-mpg  price  make  fuel-type  body-style  drive-wheels  \\\n",
              "0        21           27  13495     0          1           0             2   \n",
              "1        21           27  16500     0          1           0             2   \n",
              "2        19           26  16500     0          1           2             2   \n",
              "3        24           30  13950     1          1           3             1   \n",
              "4        18           22  17450     1          1           3             0   \n",
              "\n",
              "   engine-location  engine-type  \n",
              "0                0            0  \n",
              "1                0            0  \n",
              "2                0            5  \n",
              "3                0            3  \n",
              "4                0            3  "
            ]
          },
          "metadata": {
            "tags": []
          },
          "execution_count": 47
        }
      ]
    },
    {
      "cell_type": "code",
      "metadata": {
        "id": "SFMOLqNdJOyl"
      },
      "source": [
        "df_mm = df_new.copy()\n",
        "df_ss = df_new.copy()"
      ],
      "execution_count": null,
      "outputs": []
    },
    {
      "cell_type": "code",
      "metadata": {
        "id": "da1fq5XDJOyo"
      },
      "source": [
        "from sklearn.preprocessing import MinMaxScaler\n",
        "from sklearn.preprocessing import StandardScaler"
      ],
      "execution_count": null,
      "outputs": []
    },
    {
      "cell_type": "code",
      "metadata": {
        "id": "JPgSGi-tJOyq",
        "outputId": "a31fd1a0-80db-40f5-c15a-56343ce3914a"
      },
      "source": [
        "mm = MinMaxScaler()\n",
        "mm.fit_transform(df_mm[['normalized-losses']])"
      ],
      "execution_count": null,
      "outputs": [
        {
          "output_type": "execute_result",
          "data": {
            "text/plain": [
              "array([[0.37581256],\n",
              "       [0.37581256],\n",
              "       [0.37581256],\n",
              "       [0.59764988],\n",
              "       [0.59764988],\n",
              "       [0.37581256],\n",
              "       [0.56786265],\n",
              "       [0.37581256],\n",
              "       [0.56786265],\n",
              "       [0.37581256],\n",
              "       [0.72994921],\n",
              "       [0.72994921],\n",
              "       [0.7116698 ],\n",
              "       [0.7116698 ],\n",
              "       [0.37581256],\n",
              "       [0.37581256],\n",
              "       [0.37581256],\n",
              "       [0.37581256],\n",
              "       [0.37009796],\n",
              "       [0.23145589],\n",
              "       [0.11813715],\n",
              "       [0.352811  ],\n",
              "       [0.352811  ],\n",
              "       [0.352811  ],\n",
              "       [0.51693129],\n",
              "       [0.51693129],\n",
              "       [0.51693129],\n",
              "       [0.51693129],\n",
              "       [0.30560714],\n",
              "       [0.45887635],\n",
              "       [0.45887635],\n",
              "       [0.25040091],\n",
              "       [0.25040091],\n",
              "       [0.25040091],\n",
              "       [0.30560714],\n",
              "       [0.09694232],\n",
              "       [0.28136116],\n",
              "       [0.28136116],\n",
              "       [0.14579545],\n",
              "       [0.14579545],\n",
              "       [0.28746495],\n",
              "       [0.37581256],\n",
              "       [0.37581256],\n",
              "       [0.37581256],\n",
              "       [0.37581256],\n",
              "       [0.50131847],\n",
              "       [0.37581256],\n",
              "       [0.37581256],\n",
              "       [0.26906659],\n",
              "       [0.26906659],\n",
              "       [0.26906659],\n",
              "       [0.32350358],\n",
              "       [0.32350358],\n",
              "       [0.52725206],\n",
              "       [0.52725206],\n",
              "       [0.52725206],\n",
              "       [0.52725206],\n",
              "       [0.41517586],\n",
              "       [0.33530284],\n",
              "       [0.41517586],\n",
              "       [0.33530284],\n",
              "       [0.37581256],\n",
              "       [0.33530284],\n",
              "       [0.352811  ],\n",
              "       [0.37581256],\n",
              "       [0.19922454],\n",
              "       [0.19922454],\n",
              "       [0.19922454],\n",
              "       [0.19922454],\n",
              "       [0.37581256],\n",
              "       [0.4855433 ],\n",
              "       [0.37581256],\n",
              "       [0.37581256],\n",
              "       [0.37581256],\n",
              "       [0.58282565],\n",
              "       [0.58282565],\n",
              "       [0.58282565],\n",
              "       [0.58282565],\n",
              "       [0.54260506],\n",
              "       [0.54260506],\n",
              "       [0.37581256],\n",
              "       [0.37581256],\n",
              "       [0.37581256],\n",
              "       [0.39281726],\n",
              "       [0.39281726],\n",
              "       [0.39281726],\n",
              "       [0.45887635],\n",
              "       [0.40961909],\n",
              "       [0.40961909],\n",
              "       [0.40961909],\n",
              "       [0.37581256],\n",
              "       [0.26287498],\n",
              "       [0.40961909],\n",
              "       [0.40961909],\n",
              "       [0.37581256],\n",
              "       [0.26287498],\n",
              "       [0.61720619],\n",
              "       [0.28136116],\n",
              "       [0.28136116],\n",
              "       [0.40961909],\n",
              "       [0.29354028],\n",
              "       [0.29354028],\n",
              "       [0.73901751],\n",
              "       [0.73901751],\n",
              "       [0.8990499 ],\n",
              "       [0.58282565],\n",
              "       [0.58282565],\n",
              "       [0.37581256],\n",
              "       [0.37581256],\n",
              "       [0.58282565],\n",
              "       [0.58282565],\n",
              "       [0.37581256],\n",
              "       [0.37581256],\n",
              "       [0.58282565],\n",
              "       [0.58282565],\n",
              "       [0.58282565],\n",
              "       [0.35859748],\n",
              "       [0.35859748],\n",
              "       [0.54768922],\n",
              "       [0.54768922],\n",
              "       [0.54768922],\n",
              "       [0.06803793],\n",
              "       [0.37581256],\n",
              "       [0.70245717],\n",
              "       [0.37581256],\n",
              "       [0.37581256],\n",
              "       [0.37581256],\n",
              "       [0.37581256],\n",
              "       [0.37581256],\n",
              "       [0.37581256],\n",
              "       [0.52725206],\n",
              "       [0.26906659],\n",
              "       [0.52725206],\n",
              "       [0.26906659],\n",
              "       [0.52725206],\n",
              "       [0.26906659],\n",
              "       [0.13204962],\n",
              "       [0.13204962],\n",
              "       [0.13204962],\n",
              "       [0.25665323],\n",
              "       [0.25665323],\n",
              "       [0.25665323],\n",
              "       [0.25665323],\n",
              "       [0.25665323],\n",
              "       [0.17281027],\n",
              "       [0.17281027],\n",
              "       [0.14579545],\n",
              "       [0.14579545],\n",
              "       [0.1593805 ],\n",
              "       [0.1593805 ],\n",
              "       [0.06803793],\n",
              "       [0.08978707],\n",
              "       [0.11813715],\n",
              "       [0.18608998],\n",
              "       [0.18608998],\n",
              "       [0.18608998],\n",
              "       [0.18608998],\n",
              "       [0.18608998],\n",
              "       [0.18608998],\n",
              "       [0.18608998],\n",
              "       [0.18608998],\n",
              "       [0.61720619],\n",
              "       [0.61720619],\n",
              "       [0.61720619],\n",
              "       [0.61720619],\n",
              "       [0.44264213],\n",
              "       [0.44264213],\n",
              "       [0.44264213],\n",
              "       [0.44264213],\n",
              "       [0.44264213],\n",
              "       [0.44264213],\n",
              "       [0.        ],\n",
              "       [0.        ],\n",
              "       [0.        ],\n",
              "       [0.        ],\n",
              "       [0.        ],\n",
              "       [0.75253276],\n",
              "       [0.75253276],\n",
              "       [0.17946857],\n",
              "       [0.37581256],\n",
              "       [0.37581256],\n",
              "       [0.37581256],\n",
              "       [0.20573885],\n",
              "       [0.20573885],\n",
              "       [0.20573885],\n",
              "       [0.20573885],\n",
              "       [0.20573885],\n",
              "       [0.37581256],\n",
              "       [1.        ],\n",
              "       [0.37581256],\n",
              "       [0.37581256],\n",
              "       [0.37581256],\n",
              "       [0.26287498],\n",
              "       [0.06803793],\n",
              "       [0.26287498],\n",
              "       [0.06803793],\n",
              "       [0.26287498],\n",
              "       [0.06803793],\n",
              "       [0.21221861],\n",
              "       [0.21221861],\n",
              "       [0.21221861],\n",
              "       [0.21221861],\n",
              "       [0.21221861]])"
            ]
          },
          "metadata": {
            "tags": []
          },
          "execution_count": 50
        }
      ]
    },
    {
      "cell_type": "code",
      "metadata": {
        "id": "jqTLpCdTJOys",
        "outputId": "f6fb487d-2341-4b6a-cf5f-e8ce9283a582"
      },
      "source": [
        "ss = StandardScaler()\n",
        "ss.fit_transform(df_ss[['normalized-losses']])"
      ],
      "execution_count": null,
      "outputs": [
        {
          "output_type": "execute_result",
          "data": {
            "text/plain": [
              "array([[ 0.06128035],\n",
              "       [ 0.06128035],\n",
              "       [ 0.06128035],\n",
              "       [ 1.32102219],\n",
              "       [ 1.32102219],\n",
              "       [ 0.06128035],\n",
              "       [ 1.15187019],\n",
              "       [ 0.06128035],\n",
              "       [ 1.15187019],\n",
              "       [ 0.06128035],\n",
              "       [ 2.07230697],\n",
              "       [ 2.07230697],\n",
              "       [ 1.96850414],\n",
              "       [ 1.96850414],\n",
              "       [ 0.06128035],\n",
              "       [ 0.06128035],\n",
              "       [ 0.06128035],\n",
              "       [ 0.06128035],\n",
              "       [ 0.02882901],\n",
              "       [-0.75847416],\n",
              "       [-1.40197434],\n",
              "       [-0.06933806],\n",
              "       [-0.06933806],\n",
              "       [-0.06933806],\n",
              "       [ 0.86264758],\n",
              "       [ 0.86264758],\n",
              "       [ 0.86264758],\n",
              "       [ 0.86264758],\n",
              "       [-0.33739335],\n",
              "       [ 0.5329725 ],\n",
              "       [ 0.5329725 ],\n",
              "       [-0.65089156],\n",
              "       [-0.65089156],\n",
              "       [-0.65089156],\n",
              "       [-0.33739335],\n",
              "       [-1.52233289],\n",
              "       [-0.47507837],\n",
              "       [-0.47507837],\n",
              "       [-1.24491187],\n",
              "       [-1.24491187],\n",
              "       [-0.44041695],\n",
              "       [ 0.06128035],\n",
              "       [ 0.06128035],\n",
              "       [ 0.06128035],\n",
              "       [ 0.06128035],\n",
              "       [ 0.77398751],\n",
              "       [ 0.06128035],\n",
              "       [ 0.06128035],\n",
              "       [-0.54489521],\n",
              "       [-0.54489521],\n",
              "       [-0.54489521],\n",
              "       [-0.2357653 ],\n",
              "       [-0.2357653 ],\n",
              "       [ 0.9212559 ],\n",
              "       [ 0.9212559 ],\n",
              "       [ 0.9212559 ],\n",
              "       [ 0.9212559 ],\n",
              "       [ 0.28481167],\n",
              "       [-0.16876115],\n",
              "       [ 0.28481167],\n",
              "       [-0.16876115],\n",
              "       [ 0.06128035],\n",
              "       [-0.16876115],\n",
              "       [-0.06933806],\n",
              "       [ 0.06128035],\n",
              "       [-0.94150551],\n",
              "       [-0.94150551],\n",
              "       [-0.94150551],\n",
              "       [-0.94150551],\n",
              "       [ 0.06128035],\n",
              "       [ 0.68440542],\n",
              "       [ 0.06128035],\n",
              "       [ 0.06128035],\n",
              "       [ 0.06128035],\n",
              "       [ 1.2368402 ],\n",
              "       [ 1.2368402 ],\n",
              "       [ 1.2368402 ],\n",
              "       [ 1.2368402 ],\n",
              "       [ 1.00844059],\n",
              "       [ 1.00844059],\n",
              "       [ 0.06128035],\n",
              "       [ 0.06128035],\n",
              "       [ 0.06128035],\n",
              "       [ 0.15784446],\n",
              "       [ 0.15784446],\n",
              "       [ 0.15784446],\n",
              "       [ 0.5329725 ],\n",
              "       [ 0.25325659],\n",
              "       [ 0.25325659],\n",
              "       [ 0.25325659],\n",
              "       [ 0.06128035],\n",
              "       [-0.58005539],\n",
              "       [ 0.25325659],\n",
              "       [ 0.25325659],\n",
              "       [ 0.06128035],\n",
              "       [-0.58005539],\n",
              "       [ 1.43207608],\n",
              "       [-0.47507837],\n",
              "       [-0.47507837],\n",
              "       [ 0.25325659],\n",
              "       [-0.40591712],\n",
              "       [-0.40591712],\n",
              "       [ 2.12380288],\n",
              "       [ 2.12380288],\n",
              "       [ 3.03257467],\n",
              "       [ 1.2368402 ],\n",
              "       [ 1.2368402 ],\n",
              "       [ 0.06128035],\n",
              "       [ 0.06128035],\n",
              "       [ 1.2368402 ],\n",
              "       [ 1.2368402 ],\n",
              "       [ 0.06128035],\n",
              "       [ 0.06128035],\n",
              "       [ 1.2368402 ],\n",
              "       [ 1.2368402 ],\n",
              "       [ 1.2368402 ],\n",
              "       [-0.0364785 ],\n",
              "       [-0.0364785 ],\n",
              "       [ 1.03731189],\n",
              "       [ 1.03731189],\n",
              "       [ 1.03731189],\n",
              "       [-1.68647151],\n",
              "       [ 0.06128035],\n",
              "       [ 1.9161886 ],\n",
              "       [ 0.06128035],\n",
              "       [ 0.06128035],\n",
              "       [ 0.06128035],\n",
              "       [ 0.06128035],\n",
              "       [ 0.06128035],\n",
              "       [ 0.06128035],\n",
              "       [ 0.9212559 ],\n",
              "       [-0.54489521],\n",
              "       [ 0.9212559 ],\n",
              "       [-0.54489521],\n",
              "       [ 0.9212559 ],\n",
              "       [-0.54489521],\n",
              "       [-1.32296997],\n",
              "       [-1.32296997],\n",
              "       [-1.32296997],\n",
              "       [-0.61538667],\n",
              "       [-0.61538667],\n",
              "       [-0.61538667],\n",
              "       [-0.61538667],\n",
              "       [-0.61538667],\n",
              "       [-1.09150351],\n",
              "       [-1.09150351],\n",
              "       [-1.24491187],\n",
              "       [-1.24491187],\n",
              "       [-1.16776682],\n",
              "       [-1.16776682],\n",
              "       [-1.68647151],\n",
              "       [-1.56296519],\n",
              "       [-1.40197434],\n",
              "       [-1.01609239],\n",
              "       [-1.01609239],\n",
              "       [-1.01609239],\n",
              "       [-1.01609239],\n",
              "       [-1.01609239],\n",
              "       [-1.01609239],\n",
              "       [-1.01609239],\n",
              "       [-1.01609239],\n",
              "       [ 1.43207608],\n",
              "       [ 1.43207608],\n",
              "       [ 1.43207608],\n",
              "       [ 1.43207608],\n",
              "       [ 0.44078369],\n",
              "       [ 0.44078369],\n",
              "       [ 0.44078369],\n",
              "       [ 0.44078369],\n",
              "       [ 0.44078369],\n",
              "       [ 0.44078369],\n",
              "       [-2.07283671],\n",
              "       [-2.07283671],\n",
              "       [-2.07283671],\n",
              "       [-2.07283671],\n",
              "       [-2.07283671],\n",
              "       [ 2.20055158],\n",
              "       [ 2.20055158],\n",
              "       [-1.05369321],\n",
              "       [ 0.06128035],\n",
              "       [ 0.06128035],\n",
              "       [ 0.06128035],\n",
              "       [-0.90451283],\n",
              "       [-0.90451283],\n",
              "       [-0.90451283],\n",
              "       [-0.90451283],\n",
              "       [-0.90451283],\n",
              "       [ 0.06128035],\n",
              "       [ 3.60583737],\n",
              "       [ 0.06128035],\n",
              "       [ 0.06128035],\n",
              "       [ 0.06128035],\n",
              "       [-0.58005539],\n",
              "       [-1.68647151],\n",
              "       [-0.58005539],\n",
              "       [-1.68647151],\n",
              "       [-0.58005539],\n",
              "       [-1.68647151],\n",
              "       [-0.86771641],\n",
              "       [-0.86771641],\n",
              "       [-0.86771641],\n",
              "       [-0.86771641],\n",
              "       [-0.86771641]])"
            ]
          },
          "metadata": {
            "tags": []
          },
          "execution_count": 51
        }
      ]
    },
    {
      "cell_type": "code",
      "metadata": {
        "id": "nJMFucPuJOyx",
        "outputId": "369423f3-6c9a-4c8f-f1a4-043189f188cb"
      },
      "source": [
        "for col in df_mm:\n",
        "    mm = MinMaxScaler()\n",
        "    df_mm[col] = mm.fit_transform(df_mm[[col]])\n",
        "df_mm.head()"
      ],
      "execution_count": null,
      "outputs": [
        {
          "output_type": "execute_result",
          "data": {
            "text/html": [
              "<div>\n",
              "<style scoped>\n",
              "    .dataframe tbody tr th:only-of-type {\n",
              "        vertical-align: middle;\n",
              "    }\n",
              "\n",
              "    .dataframe tbody tr th {\n",
              "        vertical-align: top;\n",
              "    }\n",
              "\n",
              "    .dataframe thead th {\n",
              "        text-align: right;\n",
              "    }\n",
              "</style>\n",
              "<table border=\"1\" class=\"dataframe\">\n",
              "  <thead>\n",
              "    <tr style=\"text-align: right;\">\n",
              "      <th></th>\n",
              "      <th>symboling</th>\n",
              "      <th>normalized-losses</th>\n",
              "      <th>width</th>\n",
              "      <th>height</th>\n",
              "      <th>engine-size</th>\n",
              "      <th>horsepower</th>\n",
              "      <th>city-mpg</th>\n",
              "      <th>highway-mpg</th>\n",
              "      <th>price</th>\n",
              "      <th>make</th>\n",
              "      <th>fuel-type</th>\n",
              "      <th>body-style</th>\n",
              "      <th>drive-wheels</th>\n",
              "      <th>engine-location</th>\n",
              "      <th>engine-type</th>\n",
              "    </tr>\n",
              "  </thead>\n",
              "  <tbody>\n",
              "    <tr>\n",
              "      <th>0</th>\n",
              "      <td>1.0</td>\n",
              "      <td>0.375813</td>\n",
              "      <td>0.316667</td>\n",
              "      <td>0.083333</td>\n",
              "      <td>0.260377</td>\n",
              "      <td>0.262500</td>\n",
              "      <td>0.222222</td>\n",
              "      <td>0.289474</td>\n",
              "      <td>0.207959</td>\n",
              "      <td>0.000000</td>\n",
              "      <td>1.0</td>\n",
              "      <td>0.00</td>\n",
              "      <td>1.0</td>\n",
              "      <td>0.0</td>\n",
              "      <td>0.000000</td>\n",
              "    </tr>\n",
              "    <tr>\n",
              "      <th>1</th>\n",
              "      <td>1.0</td>\n",
              "      <td>0.375813</td>\n",
              "      <td>0.316667</td>\n",
              "      <td>0.083333</td>\n",
              "      <td>0.260377</td>\n",
              "      <td>0.262500</td>\n",
              "      <td>0.222222</td>\n",
              "      <td>0.289474</td>\n",
              "      <td>0.282558</td>\n",
              "      <td>0.000000</td>\n",
              "      <td>1.0</td>\n",
              "      <td>0.00</td>\n",
              "      <td>1.0</td>\n",
              "      <td>0.0</td>\n",
              "      <td>0.000000</td>\n",
              "    </tr>\n",
              "    <tr>\n",
              "      <th>2</th>\n",
              "      <td>0.6</td>\n",
              "      <td>0.375813</td>\n",
              "      <td>0.433333</td>\n",
              "      <td>0.383333</td>\n",
              "      <td>0.343396</td>\n",
              "      <td>0.441667</td>\n",
              "      <td>0.166667</td>\n",
              "      <td>0.263158</td>\n",
              "      <td>0.282558</td>\n",
              "      <td>0.000000</td>\n",
              "      <td>1.0</td>\n",
              "      <td>0.50</td>\n",
              "      <td>1.0</td>\n",
              "      <td>0.0</td>\n",
              "      <td>0.833333</td>\n",
              "    </tr>\n",
              "    <tr>\n",
              "      <th>3</th>\n",
              "      <td>0.8</td>\n",
              "      <td>0.597650</td>\n",
              "      <td>0.491667</td>\n",
              "      <td>0.541667</td>\n",
              "      <td>0.181132</td>\n",
              "      <td>0.225000</td>\n",
              "      <td>0.305556</td>\n",
              "      <td>0.368421</td>\n",
              "      <td>0.219254</td>\n",
              "      <td>0.047619</td>\n",
              "      <td>1.0</td>\n",
              "      <td>0.75</td>\n",
              "      <td>0.5</td>\n",
              "      <td>0.0</td>\n",
              "      <td>0.500000</td>\n",
              "    </tr>\n",
              "    <tr>\n",
              "      <th>4</th>\n",
              "      <td>0.8</td>\n",
              "      <td>0.597650</td>\n",
              "      <td>0.508333</td>\n",
              "      <td>0.541667</td>\n",
              "      <td>0.283019</td>\n",
              "      <td>0.279167</td>\n",
              "      <td>0.138889</td>\n",
              "      <td>0.157895</td>\n",
              "      <td>0.306142</td>\n",
              "      <td>0.047619</td>\n",
              "      <td>1.0</td>\n",
              "      <td>0.75</td>\n",
              "      <td>0.0</td>\n",
              "      <td>0.0</td>\n",
              "      <td>0.500000</td>\n",
              "    </tr>\n",
              "  </tbody>\n",
              "</table>\n",
              "</div>"
            ],
            "text/plain": [
              "   symboling  normalized-losses     width    height  engine-size  horsepower  \\\n",
              "0        1.0           0.375813  0.316667  0.083333     0.260377    0.262500   \n",
              "1        1.0           0.375813  0.316667  0.083333     0.260377    0.262500   \n",
              "2        0.6           0.375813  0.433333  0.383333     0.343396    0.441667   \n",
              "3        0.8           0.597650  0.491667  0.541667     0.181132    0.225000   \n",
              "4        0.8           0.597650  0.508333  0.541667     0.283019    0.279167   \n",
              "\n",
              "   city-mpg  highway-mpg     price      make  fuel-type  body-style  \\\n",
              "0  0.222222     0.289474  0.207959  0.000000        1.0        0.00   \n",
              "1  0.222222     0.289474  0.282558  0.000000        1.0        0.00   \n",
              "2  0.166667     0.263158  0.282558  0.000000        1.0        0.50   \n",
              "3  0.305556     0.368421  0.219254  0.047619        1.0        0.75   \n",
              "4  0.138889     0.157895  0.306142  0.047619        1.0        0.75   \n",
              "\n",
              "   drive-wheels  engine-location  engine-type  \n",
              "0           1.0              0.0     0.000000  \n",
              "1           1.0              0.0     0.000000  \n",
              "2           1.0              0.0     0.833333  \n",
              "3           0.5              0.0     0.500000  \n",
              "4           0.0              0.0     0.500000  "
            ]
          },
          "metadata": {
            "tags": []
          },
          "execution_count": 52
        }
      ]
    },
    {
      "cell_type": "code",
      "metadata": {
        "id": "Rdwe1FXQJOy2",
        "outputId": "ad8b1bb8-c3e0-48b5-d002-a4e9a1a4c1ad"
      },
      "source": [
        "for col in df_ss:\n",
        "    ss = StandardScaler()\n",
        "    df_ss[col] = ss.fit_transform(df_ss[[col]])\n",
        "df_ss.head()"
      ],
      "execution_count": null,
      "outputs": [
        {
          "output_type": "execute_result",
          "data": {
            "text/html": [
              "<div>\n",
              "<style scoped>\n",
              "    .dataframe tbody tr th:only-of-type {\n",
              "        vertical-align: middle;\n",
              "    }\n",
              "\n",
              "    .dataframe tbody tr th {\n",
              "        vertical-align: top;\n",
              "    }\n",
              "\n",
              "    .dataframe thead th {\n",
              "        text-align: right;\n",
              "    }\n",
              "</style>\n",
              "<table border=\"1\" class=\"dataframe\">\n",
              "  <thead>\n",
              "    <tr style=\"text-align: right;\">\n",
              "      <th></th>\n",
              "      <th>symboling</th>\n",
              "      <th>normalized-losses</th>\n",
              "      <th>width</th>\n",
              "      <th>height</th>\n",
              "      <th>engine-size</th>\n",
              "      <th>horsepower</th>\n",
              "      <th>city-mpg</th>\n",
              "      <th>highway-mpg</th>\n",
              "      <th>price</th>\n",
              "      <th>make</th>\n",
              "      <th>fuel-type</th>\n",
              "      <th>body-style</th>\n",
              "      <th>drive-wheels</th>\n",
              "      <th>engine-location</th>\n",
              "      <th>engine-type</th>\n",
              "    </tr>\n",
              "  </thead>\n",
              "  <tbody>\n",
              "    <tr>\n",
              "      <th>0</th>\n",
              "      <td>1.755232</td>\n",
              "      <td>0.061280</td>\n",
              "      <td>-0.841668</td>\n",
              "      <td>-2.027397</td>\n",
              "      <td>0.075644</td>\n",
              "      <td>0.175352</td>\n",
              "      <td>-0.650487</td>\n",
              "      <td>-0.551699</td>\n",
              "      <td>0.033430</td>\n",
              "      <td>-1.965531</td>\n",
              "      <td>0.33059</td>\n",
              "      <td>-3.042693</td>\n",
              "      <td>1.203681</td>\n",
              "      <td>-0.122474</td>\n",
              "      <td>-2.851234</td>\n",
              "    </tr>\n",
              "    <tr>\n",
              "      <th>1</th>\n",
              "      <td>1.755232</td>\n",
              "      <td>0.061280</td>\n",
              "      <td>-0.841668</td>\n",
              "      <td>-2.027397</td>\n",
              "      <td>0.075644</td>\n",
              "      <td>0.175352</td>\n",
              "      <td>-0.650487</td>\n",
              "      <td>-0.551699</td>\n",
              "      <td>0.412751</td>\n",
              "      <td>-1.965531</td>\n",
              "      <td>0.33059</td>\n",
              "      <td>-3.042693</td>\n",
              "      <td>1.203681</td>\n",
              "      <td>-0.122474</td>\n",
              "      <td>-2.851234</td>\n",
              "    </tr>\n",
              "    <tr>\n",
              "      <th>2</th>\n",
              "      <td>0.139304</td>\n",
              "      <td>0.061280</td>\n",
              "      <td>-0.190424</td>\n",
              "      <td>-0.550060</td>\n",
              "      <td>0.603497</td>\n",
              "      <td>1.263629</td>\n",
              "      <td>-0.956156</td>\n",
              "      <td>-0.696959</td>\n",
              "      <td>0.412751</td>\n",
              "      <td>-1.965531</td>\n",
              "      <td>0.33059</td>\n",
              "      <td>-0.716265</td>\n",
              "      <td>1.203681</td>\n",
              "      <td>-0.122474</td>\n",
              "      <td>1.877528</td>\n",
              "    </tr>\n",
              "    <tr>\n",
              "      <th>3</th>\n",
              "      <td>0.947268</td>\n",
              "      <td>1.321022</td>\n",
              "      <td>0.135199</td>\n",
              "      <td>0.229646</td>\n",
              "      <td>-0.428216</td>\n",
              "      <td>-0.052427</td>\n",
              "      <td>-0.191984</td>\n",
              "      <td>-0.115921</td>\n",
              "      <td>0.090864</td>\n",
              "      <td>-1.805353</td>\n",
              "      <td>0.33059</td>\n",
              "      <td>0.446949</td>\n",
              "      <td>-0.592990</td>\n",
              "      <td>-0.122474</td>\n",
              "      <td>-0.013977</td>\n",
              "    </tr>\n",
              "    <tr>\n",
              "      <th>4</th>\n",
              "      <td>0.947268</td>\n",
              "      <td>1.321022</td>\n",
              "      <td>0.228233</td>\n",
              "      <td>0.229646</td>\n",
              "      <td>0.219604</td>\n",
              "      <td>0.276587</td>\n",
              "      <td>-1.108991</td>\n",
              "      <td>-1.277997</td>\n",
              "      <td>0.532670</td>\n",
              "      <td>-1.805353</td>\n",
              "      <td>0.33059</td>\n",
              "      <td>0.446949</td>\n",
              "      <td>-2.389661</td>\n",
              "      <td>-0.122474</td>\n",
              "      <td>-0.013977</td>\n",
              "    </tr>\n",
              "  </tbody>\n",
              "</table>\n",
              "</div>"
            ],
            "text/plain": [
              "   symboling  normalized-losses     width    height  engine-size  horsepower  \\\n",
              "0   1.755232           0.061280 -0.841668 -2.027397     0.075644    0.175352   \n",
              "1   1.755232           0.061280 -0.841668 -2.027397     0.075644    0.175352   \n",
              "2   0.139304           0.061280 -0.190424 -0.550060     0.603497    1.263629   \n",
              "3   0.947268           1.321022  0.135199  0.229646    -0.428216   -0.052427   \n",
              "4   0.947268           1.321022  0.228233  0.229646     0.219604    0.276587   \n",
              "\n",
              "   city-mpg  highway-mpg     price      make  fuel-type  body-style  \\\n",
              "0 -0.650487    -0.551699  0.033430 -1.965531    0.33059   -3.042693   \n",
              "1 -0.650487    -0.551699  0.412751 -1.965531    0.33059   -3.042693   \n",
              "2 -0.956156    -0.696959  0.412751 -1.965531    0.33059   -0.716265   \n",
              "3 -0.191984    -0.115921  0.090864 -1.805353    0.33059    0.446949   \n",
              "4 -1.108991    -1.277997  0.532670 -1.805353    0.33059    0.446949   \n",
              "\n",
              "   drive-wheels  engine-location  engine-type  \n",
              "0      1.203681        -0.122474    -2.851234  \n",
              "1      1.203681        -0.122474    -2.851234  \n",
              "2      1.203681        -0.122474     1.877528  \n",
              "3     -0.592990        -0.122474    -0.013977  \n",
              "4     -2.389661        -0.122474    -0.013977  "
            ]
          },
          "metadata": {
            "tags": []
          },
          "execution_count": 53
        }
      ]
    },
    {
      "cell_type": "code",
      "metadata": {
        "id": "tUFAslUnJOy4"
      },
      "source": [
        "# Linear Reg\n",
        "# 1. split - df_new, df_mm, df_ss\n",
        "# 2. train\n",
        "# 3. Test\n",
        "# 4. r2 score\n",
        "\n",
        "# R2 Score:\n",
        "# df_new = \n",
        "# df_mm =\n",
        "# df_ss = \n",
        "from sklearn.linear_model import LinearRegression\n",
        "from sklearn.model_selection import train_test_split\n",
        "from sklearn.metrics import mean_squared_error, r2_score"
      ],
      "execution_count": null,
      "outputs": []
    },
    {
      "cell_type": "code",
      "metadata": {
        "id": "zTMRa3okJOy-",
        "outputId": "4fa86d1b-8904-48ae-ed6d-ecca80363e92"
      },
      "source": [
        "x = df_new.drop('price', axis=1)\n",
        "y = df_new['price']\n",
        "x_train, x_test, y_train, y_test = train_test_split(x, y, test_size=0.3, random_state=1)\n",
        "lr = LinearRegression()\n",
        "lr.fit(x_train, y_train)\n",
        "print(\"Intercept= {}\\nSlope={}\".format(lr.intercept_, lr.coef_))\n",
        "y_hat = lr.predict(x_test)\n",
        "print(\"MSE={}\\nR2={}\".format(mean_squared_error(y_test, y_hat), r2_score(y_test, y_hat)))"
      ],
      "execution_count": null,
      "outputs": [
        {
          "output_type": "stream",
          "text": [
            "Intercept= -74690.84826986573\n",
            "Slope=[  328.60900103   -37.67830065   862.41655684   423.27569048\n",
            "   103.37754837   -17.48622747   242.59890645  -309.75380177\n",
            "  -204.64561121   374.54546852  -215.45719386  2112.50098343\n",
            " 16249.51561127    74.85436607]\n",
            "MSE=11893876.509310786\n",
            "R2=0.7916074699518179\n"
          ],
          "name": "stdout"
        }
      ]
    },
    {
      "cell_type": "code",
      "metadata": {
        "id": "zIvS2xOAJOzB",
        "outputId": "8044ecb3-0447-4fc9-8187-c2e7fdfff106"
      },
      "source": [
        "x = df_mm.drop('price', axis=1)\n",
        "y = df_mm['price']\n",
        "x_train, x_test, y_train, y_test = train_test_split(x, y, test_size=0.3, random_state=1)\n",
        "lr = LinearRegression()\n",
        "lr.fit(x_train, y_train)\n",
        "print(\"Intercept= {}\\nSlope={}\".format(lr.intercept_, lr.coef_))\n",
        "y_hat = lr.predict(x_test)\n",
        "print(\"MSE={}\\nR2={}\".format(mean_squared_error(y_test, y_hat), r2_score(y_test, y_hat)))"
      ],
      "execution_count": null,
      "outputs": [
        {
          "output_type": "stream",
          "text": [
            "Intercept= -0.12087596378518031\n",
            "Slope=[ 0.04078857 -0.00742467  0.25691373  0.12609375  0.68008168 -0.10418288\n",
            "  0.2168105  -0.29220606 -0.1066868   0.00929809 -0.02139489  0.10488561\n",
            "  0.40339396  0.01114955]\n",
            "MSE=0.007329956119884803\n",
            "R2=0.7916074699518182\n"
          ],
          "name": "stdout"
        }
      ]
    },
    {
      "cell_type": "code",
      "metadata": {
        "id": "9BTs_Vk2JOzD",
        "outputId": "9e29cc28-dcbc-4c2b-e966-833e228fc42b"
      },
      "source": [
        "x = df_ss.drop('price', axis=1)\n",
        "y = df_ss['price']\n",
        "x_train, x_test, y_train, y_test = train_test_split(x, y, test_size=0.3, random_state=1)\n",
        "lr = LinearRegression()\n",
        "lr.fit(x_train, y_train)\n",
        "print(\"Intercept= {}\\nSlope={}\".format(lr.intercept_, lr.coef_))\n",
        "y_hat = lr.predict(x_test)\n",
        "print(\"MSE={}\\nR2={}\".format(mean_squared_error(y_test, y_hat), r2_score(y_test, y_hat)))"
      ],
      "execution_count": null,
      "outputs": [
        {
          "output_type": "stream",
          "text": [
            "Intercept= -0.006894796208158419\n",
            "Slope=[ 0.05133933 -0.0066482   0.23402581  0.13019933  0.54387388 -0.0872143\n",
            "  0.20036892 -0.26917521 -0.16127347  0.01409002 -0.02338105  0.1484195\n",
            "  0.24750426  0.00999085]\n",
            "MSE=0.18951725558753418\n",
            "R2=0.7916074699518185\n"
          ],
          "name": "stdout"
        }
      ]
    },
    {
      "cell_type": "code",
      "metadata": {
        "collapsed": true,
        "id": "VnVLmLk4JOzH",
        "outputId": "05409718-c09e-4524-9646-ced92a594c7e"
      },
      "source": [
        "df_new.head()"
      ],
      "execution_count": null,
      "outputs": [
        {
          "output_type": "execute_result",
          "data": {
            "text/html": [
              "<div>\n",
              "<style scoped>\n",
              "    .dataframe tbody tr th:only-of-type {\n",
              "        vertical-align: middle;\n",
              "    }\n",
              "\n",
              "    .dataframe tbody tr th {\n",
              "        vertical-align: top;\n",
              "    }\n",
              "\n",
              "    .dataframe thead th {\n",
              "        text-align: right;\n",
              "    }\n",
              "</style>\n",
              "<table border=\"1\" class=\"dataframe\">\n",
              "  <thead>\n",
              "    <tr style=\"text-align: right;\">\n",
              "      <th></th>\n",
              "      <th>symboling</th>\n",
              "      <th>normalized-losses</th>\n",
              "      <th>width</th>\n",
              "      <th>height</th>\n",
              "      <th>engine-size</th>\n",
              "      <th>horsepower</th>\n",
              "      <th>city-mpg</th>\n",
              "      <th>highway-mpg</th>\n",
              "      <th>price</th>\n",
              "      <th>make</th>\n",
              "      <th>fuel-type</th>\n",
              "      <th>body-style</th>\n",
              "      <th>drive-wheels</th>\n",
              "      <th>engine-location</th>\n",
              "      <th>engine-type</th>\n",
              "    </tr>\n",
              "  </thead>\n",
              "  <tbody>\n",
              "    <tr>\n",
              "      <th>0</th>\n",
              "      <td>3</td>\n",
              "      <td>11.045361</td>\n",
              "      <td>64.1</td>\n",
              "      <td>48.8</td>\n",
              "      <td>130</td>\n",
              "      <td>111.0</td>\n",
              "      <td>21</td>\n",
              "      <td>27</td>\n",
              "      <td>13495</td>\n",
              "      <td>0</td>\n",
              "      <td>1</td>\n",
              "      <td>0</td>\n",
              "      <td>2</td>\n",
              "      <td>0</td>\n",
              "      <td>0</td>\n",
              "    </tr>\n",
              "    <tr>\n",
              "      <th>1</th>\n",
              "      <td>3</td>\n",
              "      <td>11.045361</td>\n",
              "      <td>64.1</td>\n",
              "      <td>48.8</td>\n",
              "      <td>130</td>\n",
              "      <td>111.0</td>\n",
              "      <td>21</td>\n",
              "      <td>27</td>\n",
              "      <td>16500</td>\n",
              "      <td>0</td>\n",
              "      <td>1</td>\n",
              "      <td>0</td>\n",
              "      <td>2</td>\n",
              "      <td>0</td>\n",
              "      <td>0</td>\n",
              "    </tr>\n",
              "    <tr>\n",
              "      <th>2</th>\n",
              "      <td>1</td>\n",
              "      <td>11.045361</td>\n",
              "      <td>65.5</td>\n",
              "      <td>52.4</td>\n",
              "      <td>152</td>\n",
              "      <td>154.0</td>\n",
              "      <td>19</td>\n",
              "      <td>26</td>\n",
              "      <td>16500</td>\n",
              "      <td>0</td>\n",
              "      <td>1</td>\n",
              "      <td>2</td>\n",
              "      <td>2</td>\n",
              "      <td>0</td>\n",
              "      <td>5</td>\n",
              "    </tr>\n",
              "    <tr>\n",
              "      <th>3</th>\n",
              "      <td>2</td>\n",
              "      <td>12.806248</td>\n",
              "      <td>66.2</td>\n",
              "      <td>54.3</td>\n",
              "      <td>109</td>\n",
              "      <td>102.0</td>\n",
              "      <td>24</td>\n",
              "      <td>30</td>\n",
              "      <td>13950</td>\n",
              "      <td>1</td>\n",
              "      <td>1</td>\n",
              "      <td>3</td>\n",
              "      <td>1</td>\n",
              "      <td>0</td>\n",
              "      <td>3</td>\n",
              "    </tr>\n",
              "    <tr>\n",
              "      <th>4</th>\n",
              "      <td>2</td>\n",
              "      <td>12.806248</td>\n",
              "      <td>66.4</td>\n",
              "      <td>54.3</td>\n",
              "      <td>136</td>\n",
              "      <td>115.0</td>\n",
              "      <td>18</td>\n",
              "      <td>22</td>\n",
              "      <td>17450</td>\n",
              "      <td>1</td>\n",
              "      <td>1</td>\n",
              "      <td>3</td>\n",
              "      <td>0</td>\n",
              "      <td>0</td>\n",
              "      <td>3</td>\n",
              "    </tr>\n",
              "  </tbody>\n",
              "</table>\n",
              "</div>"
            ],
            "text/plain": [
              "   symboling  normalized-losses  width  height  engine-size  horsepower  \\\n",
              "0          3          11.045361   64.1    48.8          130       111.0   \n",
              "1          3          11.045361   64.1    48.8          130       111.0   \n",
              "2          1          11.045361   65.5    52.4          152       154.0   \n",
              "3          2          12.806248   66.2    54.3          109       102.0   \n",
              "4          2          12.806248   66.4    54.3          136       115.0   \n",
              "\n",
              "   city-mpg  highway-mpg  price  make  fuel-type  body-style  drive-wheels  \\\n",
              "0        21           27  13495     0          1           0             2   \n",
              "1        21           27  16500     0          1           0             2   \n",
              "2        19           26  16500     0          1           2             2   \n",
              "3        24           30  13950     1          1           3             1   \n",
              "4        18           22  17450     1          1           3             0   \n",
              "\n",
              "   engine-location  engine-type  \n",
              "0                0            0  \n",
              "1                0            0  \n",
              "2                0            5  \n",
              "3                0            3  \n",
              "4                0            3  "
            ]
          },
          "metadata": {
            "tags": []
          },
          "execution_count": 62
        }
      ]
    },
    {
      "cell_type": "code",
      "metadata": {
        "id": "EpWl1qUzJOzK",
        "outputId": "e85fef16-3bef-41bb-f936-867950eb6977"
      },
      "source": [
        "# Select features - remake a feature\n",
        "df_new.corr()"
      ],
      "execution_count": null,
      "outputs": [
        {
          "output_type": "execute_result",
          "data": {
            "text/html": [
              "<div>\n",
              "<style scoped>\n",
              "    .dataframe tbody tr th:only-of-type {\n",
              "        vertical-align: middle;\n",
              "    }\n",
              "\n",
              "    .dataframe tbody tr th {\n",
              "        vertical-align: top;\n",
              "    }\n",
              "\n",
              "    .dataframe thead th {\n",
              "        text-align: right;\n",
              "    }\n",
              "</style>\n",
              "<table border=\"1\" class=\"dataframe\">\n",
              "  <thead>\n",
              "    <tr style=\"text-align: right;\">\n",
              "      <th></th>\n",
              "      <th>symboling</th>\n",
              "      <th>normalized-losses</th>\n",
              "      <th>width</th>\n",
              "      <th>height</th>\n",
              "      <th>engine-size</th>\n",
              "      <th>horsepower</th>\n",
              "      <th>city-mpg</th>\n",
              "      <th>highway-mpg</th>\n",
              "      <th>price</th>\n",
              "      <th>make</th>\n",
              "      <th>fuel-type</th>\n",
              "      <th>body-style</th>\n",
              "      <th>drive-wheels</th>\n",
              "      <th>engine-location</th>\n",
              "      <th>engine-type</th>\n",
              "    </tr>\n",
              "  </thead>\n",
              "  <tbody>\n",
              "    <tr>\n",
              "      <th>symboling</th>\n",
              "      <td>1.000000</td>\n",
              "      <td>0.473026</td>\n",
              "      <td>-0.237675</td>\n",
              "      <td>-0.535545</td>\n",
              "      <td>-0.114247</td>\n",
              "      <td>0.063008</td>\n",
              "      <td>-0.028611</td>\n",
              "      <td>0.042165</td>\n",
              "      <td>-0.086352</td>\n",
              "      <td>-0.113172</td>\n",
              "      <td>0.194342</td>\n",
              "      <td>-0.594681</td>\n",
              "      <td>-0.038960</td>\n",
              "      <td>0.214971</td>\n",
              "      <td>0.050882</td>\n",
              "    </tr>\n",
              "    <tr>\n",
              "      <th>normalized-losses</th>\n",
              "      <td>0.473026</td>\n",
              "      <td>1.000000</td>\n",
              "      <td>0.085540</td>\n",
              "      <td>-0.377053</td>\n",
              "      <td>0.112630</td>\n",
              "      <td>0.206198</td>\n",
              "      <td>-0.220321</td>\n",
              "      <td>-0.178357</td>\n",
              "      <td>0.141189</td>\n",
              "      <td>-0.282774</td>\n",
              "      <td>0.102753</td>\n",
              "      <td>-0.256526</td>\n",
              "      <td>0.314186</td>\n",
              "      <td>0.007505</td>\n",
              "      <td>-0.086962</td>\n",
              "    </tr>\n",
              "    <tr>\n",
              "      <th>width</th>\n",
              "      <td>-0.237675</td>\n",
              "      <td>0.085540</td>\n",
              "      <td>1.000000</td>\n",
              "      <td>0.282311</td>\n",
              "      <td>0.735587</td>\n",
              "      <td>0.643061</td>\n",
              "      <td>-0.643875</td>\n",
              "      <td>-0.679110</td>\n",
              "      <td>0.718480</td>\n",
              "      <td>0.003114</td>\n",
              "      <td>-0.233847</td>\n",
              "      <td>0.133355</td>\n",
              "      <td>0.471293</td>\n",
              "      <td>-0.051808</td>\n",
              "      <td>0.012292</td>\n",
              "    </tr>\n",
              "    <tr>\n",
              "      <th>height</th>\n",
              "      <td>-0.535545</td>\n",
              "      <td>-0.377053</td>\n",
              "      <td>0.282311</td>\n",
              "      <td>1.000000</td>\n",
              "      <td>0.072898</td>\n",
              "      <td>-0.103564</td>\n",
              "      <td>-0.055675</td>\n",
              "      <td>-0.114946</td>\n",
              "      <td>0.132924</td>\n",
              "      <td>0.230704</td>\n",
              "      <td>-0.284164</td>\n",
              "      <td>0.567061</td>\n",
              "      <td>-0.023631</td>\n",
              "      <td>-0.107576</td>\n",
              "      <td>-0.127754</td>\n",
              "    </tr>\n",
              "    <tr>\n",
              "      <th>engine-size</th>\n",
              "      <td>-0.114247</td>\n",
              "      <td>0.112630</td>\n",
              "      <td>0.735587</td>\n",
              "      <td>0.072898</td>\n",
              "      <td>1.000000</td>\n",
              "      <td>0.810443</td>\n",
              "      <td>-0.653325</td>\n",
              "      <td>-0.677861</td>\n",
              "      <td>0.854413</td>\n",
              "      <td>-0.069340</td>\n",
              "      <td>-0.070219</td>\n",
              "      <td>-0.070242</td>\n",
              "      <td>0.526903</td>\n",
              "      <td>0.197333</td>\n",
              "      <td>0.040852</td>\n",
              "    </tr>\n",
              "    <tr>\n",
              "      <th>horsepower</th>\n",
              "      <td>0.063008</td>\n",
              "      <td>0.206198</td>\n",
              "      <td>0.643061</td>\n",
              "      <td>-0.103564</td>\n",
              "      <td>0.810443</td>\n",
              "      <td>1.000000</td>\n",
              "      <td>-0.802378</td>\n",
              "      <td>-0.770239</td>\n",
              "      <td>0.748723</td>\n",
              "      <td>-0.047946</td>\n",
              "      <td>0.164170</td>\n",
              "      <td>-0.149289</td>\n",
              "      <td>0.521962</td>\n",
              "      <td>0.319045</td>\n",
              "      <td>0.010351</td>\n",
              "    </tr>\n",
              "    <tr>\n",
              "      <th>city-mpg</th>\n",
              "      <td>-0.028611</td>\n",
              "      <td>-0.220321</td>\n",
              "      <td>-0.643875</td>\n",
              "      <td>-0.055675</td>\n",
              "      <td>-0.653325</td>\n",
              "      <td>-0.802378</td>\n",
              "      <td>1.000000</td>\n",
              "      <td>0.971305</td>\n",
              "      <td>-0.656327</td>\n",
              "      <td>0.046901</td>\n",
              "      <td>-0.254843</td>\n",
              "      <td>0.028883</td>\n",
              "      <td>-0.454719</td>\n",
              "      <td>-0.154541</td>\n",
              "      <td>-0.085280</td>\n",
              "    </tr>\n",
              "    <tr>\n",
              "      <th>highway-mpg</th>\n",
              "      <td>0.042165</td>\n",
              "      <td>-0.178357</td>\n",
              "      <td>-0.679110</td>\n",
              "      <td>-0.114946</td>\n",
              "      <td>-0.677861</td>\n",
              "      <td>-0.770239</td>\n",
              "      <td>0.971305</td>\n",
              "      <td>1.000000</td>\n",
              "      <td>-0.681174</td>\n",
              "      <td>0.041848</td>\n",
              "      <td>-0.189779</td>\n",
              "      <td>-0.009783</td>\n",
              "      <td>-0.458287</td>\n",
              "      <td>-0.103150</td>\n",
              "      <td>-0.078769</td>\n",
              "    </tr>\n",
              "    <tr>\n",
              "      <th>price</th>\n",
              "      <td>-0.086352</td>\n",
              "      <td>0.141189</td>\n",
              "      <td>0.718480</td>\n",
              "      <td>0.132924</td>\n",
              "      <td>0.854413</td>\n",
              "      <td>0.748723</td>\n",
              "      <td>-0.656327</td>\n",
              "      <td>-0.681174</td>\n",
              "      <td>1.000000</td>\n",
              "      <td>-0.165472</td>\n",
              "      <td>-0.108832</td>\n",
              "      <td>-0.069622</td>\n",
              "      <td>0.573656</td>\n",
              "      <td>0.329264</td>\n",
              "      <td>0.072608</td>\n",
              "    </tr>\n",
              "    <tr>\n",
              "      <th>make</th>\n",
              "      <td>-0.113172</td>\n",
              "      <td>-0.282774</td>\n",
              "      <td>0.003114</td>\n",
              "      <td>0.230704</td>\n",
              "      <td>-0.069340</td>\n",
              "      <td>-0.047946</td>\n",
              "      <td>0.046901</td>\n",
              "      <td>0.041848</td>\n",
              "      <td>-0.165472</td>\n",
              "      <td>1.000000</td>\n",
              "      <td>-0.110093</td>\n",
              "      <td>0.088234</td>\n",
              "      <td>-0.011558</td>\n",
              "      <td>0.053538</td>\n",
              "      <td>-0.052098</td>\n",
              "    </tr>\n",
              "    <tr>\n",
              "      <th>fuel-type</th>\n",
              "      <td>0.194342</td>\n",
              "      <td>0.102753</td>\n",
              "      <td>-0.233847</td>\n",
              "      <td>-0.284164</td>\n",
              "      <td>-0.070219</td>\n",
              "      <td>0.164170</td>\n",
              "      <td>-0.254843</td>\n",
              "      <td>-0.189779</td>\n",
              "      <td>-0.108832</td>\n",
              "      <td>-0.110093</td>\n",
              "      <td>1.000000</td>\n",
              "      <td>-0.147757</td>\n",
              "      <td>-0.130642</td>\n",
              "      <td>0.040489</td>\n",
              "      <td>0.082785</td>\n",
              "    </tr>\n",
              "    <tr>\n",
              "      <th>body-style</th>\n",
              "      <td>-0.594681</td>\n",
              "      <td>-0.256526</td>\n",
              "      <td>0.133355</td>\n",
              "      <td>0.567061</td>\n",
              "      <td>-0.070242</td>\n",
              "      <td>-0.149289</td>\n",
              "      <td>0.028883</td>\n",
              "      <td>-0.009783</td>\n",
              "      <td>-0.069622</td>\n",
              "      <td>0.088234</td>\n",
              "      <td>-0.147757</td>\n",
              "      <td>1.000000</td>\n",
              "      <td>-0.157064</td>\n",
              "      <td>-0.277676</td>\n",
              "      <td>-0.037107</td>\n",
              "    </tr>\n",
              "    <tr>\n",
              "      <th>drive-wheels</th>\n",
              "      <td>-0.038960</td>\n",
              "      <td>0.314186</td>\n",
              "      <td>0.471293</td>\n",
              "      <td>-0.023631</td>\n",
              "      <td>0.526903</td>\n",
              "      <td>0.521962</td>\n",
              "      <td>-0.454719</td>\n",
              "      <td>-0.458287</td>\n",
              "      <td>0.573656</td>\n",
              "      <td>-0.011558</td>\n",
              "      <td>-0.130642</td>\n",
              "      <td>-0.157064</td>\n",
              "      <td>1.000000</td>\n",
              "      <td>0.147420</td>\n",
              "      <td>-0.117104</td>\n",
              "    </tr>\n",
              "    <tr>\n",
              "      <th>engine-location</th>\n",
              "      <td>0.214971</td>\n",
              "      <td>0.007505</td>\n",
              "      <td>-0.051808</td>\n",
              "      <td>-0.107576</td>\n",
              "      <td>0.197333</td>\n",
              "      <td>0.319045</td>\n",
              "      <td>-0.154541</td>\n",
              "      <td>-0.103150</td>\n",
              "      <td>0.329264</td>\n",
              "      <td>0.053538</td>\n",
              "      <td>0.040489</td>\n",
              "      <td>-0.277676</td>\n",
              "      <td>0.147420</td>\n",
              "      <td>1.000000</td>\n",
              "      <td>0.114119</td>\n",
              "    </tr>\n",
              "    <tr>\n",
              "      <th>engine-type</th>\n",
              "      <td>0.050882</td>\n",
              "      <td>-0.086962</td>\n",
              "      <td>0.012292</td>\n",
              "      <td>-0.127754</td>\n",
              "      <td>0.040852</td>\n",
              "      <td>0.010351</td>\n",
              "      <td>-0.085280</td>\n",
              "      <td>-0.078769</td>\n",
              "      <td>0.072608</td>\n",
              "      <td>-0.052098</td>\n",
              "      <td>0.082785</td>\n",
              "      <td>-0.037107</td>\n",
              "      <td>-0.117104</td>\n",
              "      <td>0.114119</td>\n",
              "      <td>1.000000</td>\n",
              "    </tr>\n",
              "  </tbody>\n",
              "</table>\n",
              "</div>"
            ],
            "text/plain": [
              "                   symboling  normalized-losses     width    height  \\\n",
              "symboling           1.000000           0.473026 -0.237675 -0.535545   \n",
              "normalized-losses   0.473026           1.000000  0.085540 -0.377053   \n",
              "width              -0.237675           0.085540  1.000000  0.282311   \n",
              "height             -0.535545          -0.377053  0.282311  1.000000   \n",
              "engine-size        -0.114247           0.112630  0.735587  0.072898   \n",
              "horsepower          0.063008           0.206198  0.643061 -0.103564   \n",
              "city-mpg           -0.028611          -0.220321 -0.643875 -0.055675   \n",
              "highway-mpg         0.042165          -0.178357 -0.679110 -0.114946   \n",
              "price              -0.086352           0.141189  0.718480  0.132924   \n",
              "make               -0.113172          -0.282774  0.003114  0.230704   \n",
              "fuel-type           0.194342           0.102753 -0.233847 -0.284164   \n",
              "body-style         -0.594681          -0.256526  0.133355  0.567061   \n",
              "drive-wheels       -0.038960           0.314186  0.471293 -0.023631   \n",
              "engine-location     0.214971           0.007505 -0.051808 -0.107576   \n",
              "engine-type         0.050882          -0.086962  0.012292 -0.127754   \n",
              "\n",
              "                   engine-size  horsepower  city-mpg  highway-mpg     price  \\\n",
              "symboling            -0.114247    0.063008 -0.028611     0.042165 -0.086352   \n",
              "normalized-losses     0.112630    0.206198 -0.220321    -0.178357  0.141189   \n",
              "width                 0.735587    0.643061 -0.643875    -0.679110  0.718480   \n",
              "height                0.072898   -0.103564 -0.055675    -0.114946  0.132924   \n",
              "engine-size           1.000000    0.810443 -0.653325    -0.677861  0.854413   \n",
              "horsepower            0.810443    1.000000 -0.802378    -0.770239  0.748723   \n",
              "city-mpg             -0.653325   -0.802378  1.000000     0.971305 -0.656327   \n",
              "highway-mpg          -0.677861   -0.770239  0.971305     1.000000 -0.681174   \n",
              "price                 0.854413    0.748723 -0.656327    -0.681174  1.000000   \n",
              "make                 -0.069340   -0.047946  0.046901     0.041848 -0.165472   \n",
              "fuel-type            -0.070219    0.164170 -0.254843    -0.189779 -0.108832   \n",
              "body-style           -0.070242   -0.149289  0.028883    -0.009783 -0.069622   \n",
              "drive-wheels          0.526903    0.521962 -0.454719    -0.458287  0.573656   \n",
              "engine-location       0.197333    0.319045 -0.154541    -0.103150  0.329264   \n",
              "engine-type           0.040852    0.010351 -0.085280    -0.078769  0.072608   \n",
              "\n",
              "                       make  fuel-type  body-style  drive-wheels  \\\n",
              "symboling         -0.113172   0.194342   -0.594681     -0.038960   \n",
              "normalized-losses -0.282774   0.102753   -0.256526      0.314186   \n",
              "width              0.003114  -0.233847    0.133355      0.471293   \n",
              "height             0.230704  -0.284164    0.567061     -0.023631   \n",
              "engine-size       -0.069340  -0.070219   -0.070242      0.526903   \n",
              "horsepower        -0.047946   0.164170   -0.149289      0.521962   \n",
              "city-mpg           0.046901  -0.254843    0.028883     -0.454719   \n",
              "highway-mpg        0.041848  -0.189779   -0.009783     -0.458287   \n",
              "price             -0.165472  -0.108832   -0.069622      0.573656   \n",
              "make               1.000000  -0.110093    0.088234     -0.011558   \n",
              "fuel-type         -0.110093   1.000000   -0.147757     -0.130642   \n",
              "body-style         0.088234  -0.147757    1.000000     -0.157064   \n",
              "drive-wheels      -0.011558  -0.130642   -0.157064      1.000000   \n",
              "engine-location    0.053538   0.040489   -0.277676      0.147420   \n",
              "engine-type       -0.052098   0.082785   -0.037107     -0.117104   \n",
              "\n",
              "                   engine-location  engine-type  \n",
              "symboling                 0.214971     0.050882  \n",
              "normalized-losses         0.007505    -0.086962  \n",
              "width                    -0.051808     0.012292  \n",
              "height                   -0.107576    -0.127754  \n",
              "engine-size               0.197333     0.040852  \n",
              "horsepower                0.319045     0.010351  \n",
              "city-mpg                 -0.154541    -0.085280  \n",
              "highway-mpg              -0.103150    -0.078769  \n",
              "price                     0.329264     0.072608  \n",
              "make                      0.053538    -0.052098  \n",
              "fuel-type                 0.040489     0.082785  \n",
              "body-style               -0.277676    -0.037107  \n",
              "drive-wheels              0.147420    -0.117104  \n",
              "engine-location           1.000000     0.114119  \n",
              "engine-type               0.114119     1.000000  "
            ]
          },
          "metadata": {
            "tags": []
          },
          "execution_count": 63
        }
      ]
    },
    {
      "cell_type": "code",
      "metadata": {
        "collapsed": true,
        "id": "QrTpDOIcJOzN",
        "outputId": "66b07a0c-7036-43d3-da69-3230c231e2e4"
      },
      "source": [
        "# U consider all the columns and the R2 score is not good, \n",
        "# select columns with decent corelation\n",
        "\n",
        "# normalized-losses, width, height, engine-size, horsepower, \n",
        "# city-mpg, highway-mpg, make, drive-wheels, engine-location\n",
        "\n",
        "x = df_new[['normalized-losses', 'width', 'height', 'engine-size', \n",
        "            'horsepower', 'city-mpg', 'highway-mpg', 'make', 'drive-wheels', 'engine-location']]\n",
        "y = df_new['price']\n",
        "x_train, x_test, y_train, y_test = train_test_split(x, y, test_size=0.3, random_state=1)\n",
        "lr = LinearRegression()\n",
        "lr.fit(x_train, y_train)\n",
        "print(\"Intercept= {}\\nSlope={}\".format(lr.intercept_, lr.coef_))\n",
        "y_hat = lr.predict(x_test)\n",
        "print(\"MSE={}\\nR2={}\".format(mean_squared_error(y_test, y_hat), r2_score(y_test, y_hat)))"
      ],
      "execution_count": null,
      "outputs": [
        {
          "output_type": "stream",
          "text": [
            "Intercept= -64619.98089396082\n",
            "Slope=[   64.09665534   803.2871433    311.39994693   103.94496722\n",
            "   -18.29802586   205.93427787  -305.13444101  -200.75098169\n",
            "  1890.60957313 17138.00021218]\n",
            "MSE=11487807.465223422\n",
            "R2=0.7987222029327234\n"
          ],
          "name": "stdout"
        }
      ]
    },
    {
      "cell_type": "code",
      "metadata": {
        "id": "zsPTzG9yJOzU"
      },
      "source": [
        "# Feature engineering\n",
        "df_new['size'] = df_new['width'] * df_new['height']"
      ],
      "execution_count": null,
      "outputs": []
    },
    {
      "cell_type": "code",
      "metadata": {
        "id": "l0YyLx1YJOzY",
        "outputId": "c60c00c9-7c0b-4e93-f412-3e55696619d7"
      },
      "source": [
        "x = df_new[['normalized-losses', 'engine-size', 'horsepower', 'city-mpg', 'highway-mpg', \n",
        "            'make', 'drive-wheels', 'engine-location', 'size']]\n",
        "y = df_new['price']\n",
        "x_train, x_test, y_train, y_test = train_test_split(x, y, test_size=0.3, random_state=1)\n",
        "lr = LinearRegression()\n",
        "lr.fit(x_train, y_train)\n",
        "print(\"Intercept= {}\\nSlope={}\".format(lr.intercept_, lr.coef_))\n",
        "y_hat = lr.predict(x_test)\n",
        "print(\"MSE={}\\nR2={}\".format(mean_squared_error(y_test, y_hat), r2_score(y_test, y_hat)))"
      ],
      "execution_count": null,
      "outputs": [
        {
          "output_type": "stream",
          "text": [
            "Intercept= -24905.468598423515\n",
            "Slope=[ 1.32977032e+02  1.08682266e+02 -8.24854615e+00  2.09551170e+02\n",
            " -3.11611349e+02 -2.11907390e+02  1.91763377e+03  1.58263259e+04\n",
            "  7.85113597e+00]\n",
            "MSE=11822931.177990092\n",
            "R2=0.7928505026230795\n"
          ],
          "name": "stdout"
        }
      ]
    },
    {
      "cell_type": "code",
      "metadata": {
        "id": "ZnNsc7WSJOzc",
        "outputId": "530f07d7-1d69-409e-e1ca-dc4a1aa66e3e"
      },
      "source": [
        "df_new[['normalized-losses', 'engine-size', 'horsepower', 'city-mpg', 'highway-mpg', \n",
        "            'make', 'drive-wheels', 'engine-location', 'size', 'price']].corr()"
      ],
      "execution_count": null,
      "outputs": [
        {
          "output_type": "execute_result",
          "data": {
            "text/html": [
              "<div>\n",
              "<style scoped>\n",
              "    .dataframe tbody tr th:only-of-type {\n",
              "        vertical-align: middle;\n",
              "    }\n",
              "\n",
              "    .dataframe tbody tr th {\n",
              "        vertical-align: top;\n",
              "    }\n",
              "\n",
              "    .dataframe thead th {\n",
              "        text-align: right;\n",
              "    }\n",
              "</style>\n",
              "<table border=\"1\" class=\"dataframe\">\n",
              "  <thead>\n",
              "    <tr style=\"text-align: right;\">\n",
              "      <th></th>\n",
              "      <th>normalized-losses</th>\n",
              "      <th>engine-size</th>\n",
              "      <th>horsepower</th>\n",
              "      <th>city-mpg</th>\n",
              "      <th>highway-mpg</th>\n",
              "      <th>make</th>\n",
              "      <th>drive-wheels</th>\n",
              "      <th>engine-location</th>\n",
              "      <th>size</th>\n",
              "      <th>price</th>\n",
              "    </tr>\n",
              "  </thead>\n",
              "  <tbody>\n",
              "    <tr>\n",
              "      <th>normalized-losses</th>\n",
              "      <td>1.000000</td>\n",
              "      <td>0.112630</td>\n",
              "      <td>0.206198</td>\n",
              "      <td>-0.220321</td>\n",
              "      <td>-0.178357</td>\n",
              "      <td>-0.282774</td>\n",
              "      <td>0.314186</td>\n",
              "      <td>0.007505</td>\n",
              "      <td>-0.224721</td>\n",
              "      <td>0.141189</td>\n",
              "    </tr>\n",
              "    <tr>\n",
              "      <th>engine-size</th>\n",
              "      <td>0.112630</td>\n",
              "      <td>1.000000</td>\n",
              "      <td>0.810443</td>\n",
              "      <td>-0.653325</td>\n",
              "      <td>-0.677861</td>\n",
              "      <td>-0.069340</td>\n",
              "      <td>0.526903</td>\n",
              "      <td>0.197333</td>\n",
              "      <td>0.430968</td>\n",
              "      <td>0.854413</td>\n",
              "    </tr>\n",
              "    <tr>\n",
              "      <th>horsepower</th>\n",
              "      <td>0.206198</td>\n",
              "      <td>0.810443</td>\n",
              "      <td>1.000000</td>\n",
              "      <td>-0.802378</td>\n",
              "      <td>-0.770239</td>\n",
              "      <td>-0.047946</td>\n",
              "      <td>0.521962</td>\n",
              "      <td>0.319045</td>\n",
              "      <td>0.253866</td>\n",
              "      <td>0.748723</td>\n",
              "    </tr>\n",
              "    <tr>\n",
              "      <th>city-mpg</th>\n",
              "      <td>-0.220321</td>\n",
              "      <td>-0.653325</td>\n",
              "      <td>-0.802378</td>\n",
              "      <td>1.000000</td>\n",
              "      <td>0.971305</td>\n",
              "      <td>0.046901</td>\n",
              "      <td>-0.454719</td>\n",
              "      <td>-0.154541</td>\n",
              "      <td>-0.371586</td>\n",
              "      <td>-0.656327</td>\n",
              "    </tr>\n",
              "    <tr>\n",
              "      <th>highway-mpg</th>\n",
              "      <td>-0.178357</td>\n",
              "      <td>-0.677861</td>\n",
              "      <td>-0.770239</td>\n",
              "      <td>0.971305</td>\n",
              "      <td>1.000000</td>\n",
              "      <td>0.041848</td>\n",
              "      <td>-0.458287</td>\n",
              "      <td>-0.103150</td>\n",
              "      <td>-0.433767</td>\n",
              "      <td>-0.681174</td>\n",
              "    </tr>\n",
              "    <tr>\n",
              "      <th>make</th>\n",
              "      <td>-0.282774</td>\n",
              "      <td>-0.069340</td>\n",
              "      <td>-0.047946</td>\n",
              "      <td>0.046901</td>\n",
              "      <td>0.041848</td>\n",
              "      <td>1.000000</td>\n",
              "      <td>-0.011558</td>\n",
              "      <td>0.053538</td>\n",
              "      <td>0.163295</td>\n",
              "      <td>-0.165472</td>\n",
              "    </tr>\n",
              "    <tr>\n",
              "      <th>drive-wheels</th>\n",
              "      <td>0.314186</td>\n",
              "      <td>0.526903</td>\n",
              "      <td>0.521962</td>\n",
              "      <td>-0.454719</td>\n",
              "      <td>-0.458287</td>\n",
              "      <td>-0.011558</td>\n",
              "      <td>1.000000</td>\n",
              "      <td>0.147420</td>\n",
              "      <td>0.231043</td>\n",
              "      <td>0.573656</td>\n",
              "    </tr>\n",
              "    <tr>\n",
              "      <th>engine-location</th>\n",
              "      <td>0.007505</td>\n",
              "      <td>0.197333</td>\n",
              "      <td>0.319045</td>\n",
              "      <td>-0.154541</td>\n",
              "      <td>-0.103150</td>\n",
              "      <td>0.053538</td>\n",
              "      <td>0.147420</td>\n",
              "      <td>1.000000</td>\n",
              "      <td>-0.103573</td>\n",
              "      <td>0.329264</td>\n",
              "    </tr>\n",
              "    <tr>\n",
              "      <th>size</th>\n",
              "      <td>-0.224721</td>\n",
              "      <td>0.430968</td>\n",
              "      <td>0.253866</td>\n",
              "      <td>-0.371586</td>\n",
              "      <td>-0.433767</td>\n",
              "      <td>0.163295</td>\n",
              "      <td>0.231043</td>\n",
              "      <td>-0.103573</td>\n",
              "      <td>1.000000</td>\n",
              "      <td>0.469750</td>\n",
              "    </tr>\n",
              "    <tr>\n",
              "      <th>price</th>\n",
              "      <td>0.141189</td>\n",
              "      <td>0.854413</td>\n",
              "      <td>0.748723</td>\n",
              "      <td>-0.656327</td>\n",
              "      <td>-0.681174</td>\n",
              "      <td>-0.165472</td>\n",
              "      <td>0.573656</td>\n",
              "      <td>0.329264</td>\n",
              "      <td>0.469750</td>\n",
              "      <td>1.000000</td>\n",
              "    </tr>\n",
              "  </tbody>\n",
              "</table>\n",
              "</div>"
            ],
            "text/plain": [
              "                   normalized-losses  engine-size  horsepower  city-mpg  \\\n",
              "normalized-losses           1.000000     0.112630    0.206198 -0.220321   \n",
              "engine-size                 0.112630     1.000000    0.810443 -0.653325   \n",
              "horsepower                  0.206198     0.810443    1.000000 -0.802378   \n",
              "city-mpg                   -0.220321    -0.653325   -0.802378  1.000000   \n",
              "highway-mpg                -0.178357    -0.677861   -0.770239  0.971305   \n",
              "make                       -0.282774    -0.069340   -0.047946  0.046901   \n",
              "drive-wheels                0.314186     0.526903    0.521962 -0.454719   \n",
              "engine-location             0.007505     0.197333    0.319045 -0.154541   \n",
              "size                       -0.224721     0.430968    0.253866 -0.371586   \n",
              "price                       0.141189     0.854413    0.748723 -0.656327   \n",
              "\n",
              "                   highway-mpg      make  drive-wheels  engine-location  \\\n",
              "normalized-losses    -0.178357 -0.282774      0.314186         0.007505   \n",
              "engine-size          -0.677861 -0.069340      0.526903         0.197333   \n",
              "horsepower           -0.770239 -0.047946      0.521962         0.319045   \n",
              "city-mpg              0.971305  0.046901     -0.454719        -0.154541   \n",
              "highway-mpg           1.000000  0.041848     -0.458287        -0.103150   \n",
              "make                  0.041848  1.000000     -0.011558         0.053538   \n",
              "drive-wheels         -0.458287 -0.011558      1.000000         0.147420   \n",
              "engine-location      -0.103150  0.053538      0.147420         1.000000   \n",
              "size                 -0.433767  0.163295      0.231043        -0.103573   \n",
              "price                -0.681174 -0.165472      0.573656         0.329264   \n",
              "\n",
              "                       size     price  \n",
              "normalized-losses -0.224721  0.141189  \n",
              "engine-size        0.430968  0.854413  \n",
              "horsepower         0.253866  0.748723  \n",
              "city-mpg          -0.371586 -0.656327  \n",
              "highway-mpg       -0.433767 -0.681174  \n",
              "make               0.163295 -0.165472  \n",
              "drive-wheels       0.231043  0.573656  \n",
              "engine-location   -0.103573  0.329264  \n",
              "size               1.000000  0.469750  \n",
              "price              0.469750  1.000000  "
            ]
          },
          "metadata": {
            "tags": []
          },
          "execution_count": 70
        }
      ]
    },
    {
      "cell_type": "code",
      "metadata": {
        "id": "VILrkXC1JOzg",
        "outputId": "18e97a83-b2b0-4b69-fbb9-0a6af8f416b6"
      },
      "source": [
        "sns.pairplot(df_new[['normalized-losses', 'engine-size', 'horsepower', 'city-mpg', 'highway-mpg', \n",
        "            'make', 'drive-wheels', 'engine-location', 'size', 'price']])"
      ],
      "execution_count": null,
      "outputs": [
        {
          "output_type": "execute_result",
          "data": {
            "text/plain": [
              "<seaborn.axisgrid.PairGrid at 0x1af60fdb548>"
            ]
          },
          "metadata": {
            "tags": []
          },
          "execution_count": 71
        },
        {
          "output_type": "display_data",
          "data": {
            "image/png": "[encoded data removed]",
            "text/plain": [
              "<Figure size 1800x1800 with 110 Axes>"
            ]
          },
          "metadata": {
            "tags": [],
            "needs_background": "light"
          }
        }
      ]
    },
    {
      "cell_type": "code",
      "metadata": {
        "id": "ImkeTSv2JOzi"
      },
      "source": [
        "df_new['average'] = (df_new['city-mpg'] + df_new['highway-mpg'])/2"
      ],
      "execution_count": null,
      "outputs": []
    },
    {
      "cell_type": "code",
      "metadata": {
        "id": "5hmFQcroJOzo",
        "outputId": "0eceeab7-5b3c-4045-fadf-2a762e0a0b3d"
      },
      "source": [
        "x = df_new[['normalized-losses', 'engine-size', \n",
        "            'make', 'drive-wheels', 'engine-location', 'size', 'average']]\n",
        "y = df_new['price']\n",
        "x_train, x_test, y_train, y_test = train_test_split(x, y, test_size=0.3)\n",
        "lr = LinearRegression()\n",
        "lr.fit(x_train, y_train)\n",
        "print(\"Intercept= {}\\nSlope={}\".format(lr.intercept_, lr.coef_))\n",
        "y_hat = lr.predict(x_test)\n",
        "print(\"MSE={}\\nR2={}\".format(mean_squared_error(y_test, y_hat), r2_score(y_test, y_hat)))"
      ],
      "execution_count": null,
      "outputs": [
        {
          "output_type": "stream",
          "text": [
            "Intercept= -25768.3232560362\n",
            "Slope=[ 8.60068128e+01  1.03554984e+02 -1.87142798e+02  2.47776663e+03\n",
            "  1.68611346e+04  7.26224382e+00 -7.66862639e+01]\n",
            "MSE=12536049.375133945\n",
            "R2=0.8233800811109233\n"
          ],
          "name": "stdout"
        }
      ]
    },
    {
      "cell_type": "code",
      "metadata": {
        "id": "0MIyOgXyJOzq",
        "outputId": "de693875-6a0f-43de-b058-3e28dc41a969"
      },
      "source": [
        "x = df_new[['engine-size', 'make', 'drive-wheels', 'engine-location', 'size', 'average']]\n",
        "y = df_new['price']\n",
        "x_train, x_test, y_train, y_test = train_test_split(x, y, test_size=0.3)\n",
        "lr = LinearRegression()\n",
        "lr.fit(x_train, y_train)\n",
        "print(\"Intercept= {}\\nSlope={}\".format(lr.intercept_, lr.coef_))\n",
        "y_hat = lr.predict(x_test)\n",
        "print(\"MSE={}\\nR2={}\".format(mean_squared_error(y_test, y_hat), r2_score(y_test, y_hat)))"
      ],
      "execution_count": null,
      "outputs": [
        {
          "output_type": "stream",
          "text": [
            "Intercept= -18829.20026207748\n",
            "Slope=[ 1.06129535e+02 -1.66885497e+02  2.14010084e+03  1.24453303e+04\n",
            "  5.96587640e+00 -1.29225169e+02]\n",
            "MSE=13347940.846286878\n",
            "R2=0.8411903065337316\n"
          ],
          "name": "stdout"
        }
      ]
    },
    {
      "cell_type": "code",
      "metadata": {
        "id": "gzUxO8l4JOzs",
        "outputId": "7d532eda-fa5b-44a9-9179-64d3e7270ecc"
      },
      "source": [
        "df_new[['engine-size', 'make', 'drive-wheels', 'engine-location', 'size', 'average', 'price']].corr()"
      ],
      "execution_count": null,
      "outputs": [
        {
          "output_type": "execute_result",
          "data": {
            "text/html": [
              "<div>\n",
              "<style scoped>\n",
              "    .dataframe tbody tr th:only-of-type {\n",
              "        vertical-align: middle;\n",
              "    }\n",
              "\n",
              "    .dataframe tbody tr th {\n",
              "        vertical-align: top;\n",
              "    }\n",
              "\n",
              "    .dataframe thead th {\n",
              "        text-align: right;\n",
              "    }\n",
              "</style>\n",
              "<table border=\"1\" class=\"dataframe\">\n",
              "  <thead>\n",
              "    <tr style=\"text-align: right;\">\n",
              "      <th></th>\n",
              "      <th>engine-size</th>\n",
              "      <th>make</th>\n",
              "      <th>drive-wheels</th>\n",
              "      <th>engine-location</th>\n",
              "      <th>size</th>\n",
              "      <th>average</th>\n",
              "      <th>price</th>\n",
              "    </tr>\n",
              "  </thead>\n",
              "  <tbody>\n",
              "    <tr>\n",
              "      <th>engine-size</th>\n",
              "      <td>1.000000</td>\n",
              "      <td>-0.069340</td>\n",
              "      <td>0.526903</td>\n",
              "      <td>0.197333</td>\n",
              "      <td>0.430968</td>\n",
              "      <td>-0.670731</td>\n",
              "      <td>0.854413</td>\n",
              "    </tr>\n",
              "    <tr>\n",
              "      <th>make</th>\n",
              "      <td>-0.069340</td>\n",
              "      <td>1.000000</td>\n",
              "      <td>-0.011558</td>\n",
              "      <td>0.053538</td>\n",
              "      <td>0.163295</td>\n",
              "      <td>0.044631</td>\n",
              "      <td>-0.165472</td>\n",
              "    </tr>\n",
              "    <tr>\n",
              "      <th>drive-wheels</th>\n",
              "      <td>0.526903</td>\n",
              "      <td>-0.011558</td>\n",
              "      <td>1.000000</td>\n",
              "      <td>0.147420</td>\n",
              "      <td>0.231043</td>\n",
              "      <td>-0.459857</td>\n",
              "      <td>0.573656</td>\n",
              "    </tr>\n",
              "    <tr>\n",
              "      <th>engine-location</th>\n",
              "      <td>0.197333</td>\n",
              "      <td>0.053538</td>\n",
              "      <td>0.147420</td>\n",
              "      <td>1.000000</td>\n",
              "      <td>-0.103573</td>\n",
              "      <td>-0.129122</td>\n",
              "      <td>0.329264</td>\n",
              "    </tr>\n",
              "    <tr>\n",
              "      <th>size</th>\n",
              "      <td>0.430968</td>\n",
              "      <td>0.163295</td>\n",
              "      <td>0.231043</td>\n",
              "      <td>-0.103573</td>\n",
              "      <td>1.000000</td>\n",
              "      <td>-0.406391</td>\n",
              "      <td>0.469750</td>\n",
              "    </tr>\n",
              "    <tr>\n",
              "      <th>average</th>\n",
              "      <td>-0.670731</td>\n",
              "      <td>0.044631</td>\n",
              "      <td>-0.459857</td>\n",
              "      <td>-0.129122</td>\n",
              "      <td>-0.406391</td>\n",
              "      <td>1.000000</td>\n",
              "      <td>-0.673915</td>\n",
              "    </tr>\n",
              "    <tr>\n",
              "      <th>price</th>\n",
              "      <td>0.854413</td>\n",
              "      <td>-0.165472</td>\n",
              "      <td>0.573656</td>\n",
              "      <td>0.329264</td>\n",
              "      <td>0.469750</td>\n",
              "      <td>-0.673915</td>\n",
              "      <td>1.000000</td>\n",
              "    </tr>\n",
              "  </tbody>\n",
              "</table>\n",
              "</div>"
            ],
            "text/plain": [
              "                 engine-size      make  drive-wheels  engine-location  \\\n",
              "engine-size         1.000000 -0.069340      0.526903         0.197333   \n",
              "make               -0.069340  1.000000     -0.011558         0.053538   \n",
              "drive-wheels        0.526903 -0.011558      1.000000         0.147420   \n",
              "engine-location     0.197333  0.053538      0.147420         1.000000   \n",
              "size                0.430968  0.163295      0.231043        -0.103573   \n",
              "average            -0.670731  0.044631     -0.459857        -0.129122   \n",
              "price               0.854413 -0.165472      0.573656         0.329264   \n",
              "\n",
              "                     size   average     price  \n",
              "engine-size      0.430968 -0.670731  0.854413  \n",
              "make             0.163295  0.044631 -0.165472  \n",
              "drive-wheels     0.231043 -0.459857  0.573656  \n",
              "engine-location -0.103573 -0.129122  0.329264  \n",
              "size             1.000000 -0.406391  0.469750  \n",
              "average         -0.406391  1.000000 -0.673915  \n",
              "price            0.469750 -0.673915  1.000000  "
            ]
          },
          "metadata": {
            "tags": []
          },
          "execution_count": 79
        }
      ]
    },
    {
      "cell_type": "code",
      "metadata": {
        "id": "cnDNBMAEJOzv"
      },
      "source": [
        "# Residuals are homoskedestical\n",
        "# Residuals are normally distributed"
      ],
      "execution_count": null,
      "outputs": []
    }
  ]
}